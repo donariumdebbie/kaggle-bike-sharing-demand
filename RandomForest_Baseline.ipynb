{
  "cells": [
    {
      "metadata": {
        "_uuid": "8f2839f25d086af736a60e9eeb907d3b93b6e0e5",
        "_cell_guid": "b1076dfc-b9ad-4769-8c92-a6c4dae69d19",
        "trusted": true
      },
      "cell_type": "code",
      "source": "# This Python 3 environment comes with many helpful analytics libraries installed\n# It is defined by the kaggle/python docker image: https://github.com/kaggle/docker-python\n# For example, here's several helpful packages to load in \n\nimport numpy as np # linear algebra\nimport pandas as pd # data processing, CSV file I/O (e.g. pd.read_csv)\n\n# Input data files are available in the \"../input/\" directory.\n# For example, running this (by clicking run or pressing Shift+Enter) will list the files in the input directory\n\nimport os\nprint(os.listdir(\"../input\"))\n\n# Any results you write to the current directory are saved as output.",
      "execution_count": 1,
      "outputs": [
        {
          "output_type": "stream",
          "text": "['test.csv', 'sampleSubmission.csv', 'train.csv']\n",
          "name": "stdout"
        }
      ]
    },
    {
      "metadata": {
        "_uuid": "ee775b404839810e5fcdb489258a460558bc080e"
      },
      "cell_type": "markdown",
      "source": "# 1. Data EDA"
    },
    {
      "metadata": {
        "_uuid": "c8278a955618da446572dbede25932b72c222e83"
      },
      "cell_type": "markdown",
      "source": "* ## 1.1 Load Data"
    },
    {
      "metadata": {
        "_cell_guid": "79c7e3d0-c299-4dcb-8224-4455121ee9b0",
        "_uuid": "d629ff2d2480ee46fbb7e2d37f6b5fab8052498a",
        "trusted": true
      },
      "cell_type": "code",
      "source": "train = pd.read_csv('../input/train.csv')\ntest = pd.read_csv('../input/test.csv')",
      "execution_count": 2,
      "outputs": []
    },
    {
      "metadata": {
        "trusted": true,
        "_uuid": "a719218754577eabddaf7dc5b716f1e7e7846579"
      },
      "cell_type": "code",
      "source": "train.head()",
      "execution_count": 4,
      "outputs": [
        {
          "output_type": "execute_result",
          "execution_count": 4,
          "data": {
            "text/plain": "              datetime  season  holiday  ...    casual  registered  count\n0  2011-01-01 00:00:00       1        0  ...         3          13     16\n1  2011-01-01 01:00:00       1        0  ...         8          32     40\n2  2011-01-01 02:00:00       1        0  ...         5          27     32\n3  2011-01-01 03:00:00       1        0  ...         3          10     13\n4  2011-01-01 04:00:00       1        0  ...         0           1      1\n\n[5 rows x 12 columns]",
            "text/html": "<div>\n<style scoped>\n    .dataframe tbody tr th:only-of-type {\n        vertical-align: middle;\n    }\n\n    .dataframe tbody tr th {\n        vertical-align: top;\n    }\n\n    .dataframe thead th {\n        text-align: right;\n    }\n</style>\n<table border=\"1\" class=\"dataframe\">\n  <thead>\n    <tr style=\"text-align: right;\">\n      <th></th>\n      <th>datetime</th>\n      <th>season</th>\n      <th>holiday</th>\n      <th>workingday</th>\n      <th>weather</th>\n      <th>temp</th>\n      <th>atemp</th>\n      <th>humidity</th>\n      <th>windspeed</th>\n      <th>casual</th>\n      <th>registered</th>\n      <th>count</th>\n    </tr>\n  </thead>\n  <tbody>\n    <tr>\n      <th>0</th>\n      <td>2011-01-01 00:00:00</td>\n      <td>1</td>\n      <td>0</td>\n      <td>0</td>\n      <td>1</td>\n      <td>9.84</td>\n      <td>14.395</td>\n      <td>81</td>\n      <td>0.0</td>\n      <td>3</td>\n      <td>13</td>\n      <td>16</td>\n    </tr>\n    <tr>\n      <th>1</th>\n      <td>2011-01-01 01:00:00</td>\n      <td>1</td>\n      <td>0</td>\n      <td>0</td>\n      <td>1</td>\n      <td>9.02</td>\n      <td>13.635</td>\n      <td>80</td>\n      <td>0.0</td>\n      <td>8</td>\n      <td>32</td>\n      <td>40</td>\n    </tr>\n    <tr>\n      <th>2</th>\n      <td>2011-01-01 02:00:00</td>\n      <td>1</td>\n      <td>0</td>\n      <td>0</td>\n      <td>1</td>\n      <td>9.02</td>\n      <td>13.635</td>\n      <td>80</td>\n      <td>0.0</td>\n      <td>5</td>\n      <td>27</td>\n      <td>32</td>\n    </tr>\n    <tr>\n      <th>3</th>\n      <td>2011-01-01 03:00:00</td>\n      <td>1</td>\n      <td>0</td>\n      <td>0</td>\n      <td>1</td>\n      <td>9.84</td>\n      <td>14.395</td>\n      <td>75</td>\n      <td>0.0</td>\n      <td>3</td>\n      <td>10</td>\n      <td>13</td>\n    </tr>\n    <tr>\n      <th>4</th>\n      <td>2011-01-01 04:00:00</td>\n      <td>1</td>\n      <td>0</td>\n      <td>0</td>\n      <td>1</td>\n      <td>9.84</td>\n      <td>14.395</td>\n      <td>75</td>\n      <td>0.0</td>\n      <td>0</td>\n      <td>1</td>\n      <td>1</td>\n    </tr>\n  </tbody>\n</table>\n</div>"
          },
          "metadata": {}
        }
      ]
    },
    {
      "metadata": {
        "trusted": true,
        "_uuid": "2c1480280ff423d972ddfe2a28a6515b71425137"
      },
      "cell_type": "code",
      "source": "test.head()",
      "execution_count": 5,
      "outputs": [
        {
          "output_type": "execute_result",
          "execution_count": 5,
          "data": {
            "text/plain": "              datetime  season  holiday    ...       atemp  humidity  windspeed\n0  2011-01-20 00:00:00       1        0    ...      11.365        56    26.0027\n1  2011-01-20 01:00:00       1        0    ...      13.635        56     0.0000\n2  2011-01-20 02:00:00       1        0    ...      13.635        56     0.0000\n3  2011-01-20 03:00:00       1        0    ...      12.880        56    11.0014\n4  2011-01-20 04:00:00       1        0    ...      12.880        56    11.0014\n\n[5 rows x 9 columns]",
            "text/html": "<div>\n<style scoped>\n    .dataframe tbody tr th:only-of-type {\n        vertical-align: middle;\n    }\n\n    .dataframe tbody tr th {\n        vertical-align: top;\n    }\n\n    .dataframe thead th {\n        text-align: right;\n    }\n</style>\n<table border=\"1\" class=\"dataframe\">\n  <thead>\n    <tr style=\"text-align: right;\">\n      <th></th>\n      <th>datetime</th>\n      <th>season</th>\n      <th>holiday</th>\n      <th>workingday</th>\n      <th>weather</th>\n      <th>temp</th>\n      <th>atemp</th>\n      <th>humidity</th>\n      <th>windspeed</th>\n    </tr>\n  </thead>\n  <tbody>\n    <tr>\n      <th>0</th>\n      <td>2011-01-20 00:00:00</td>\n      <td>1</td>\n      <td>0</td>\n      <td>1</td>\n      <td>1</td>\n      <td>10.66</td>\n      <td>11.365</td>\n      <td>56</td>\n      <td>26.0027</td>\n    </tr>\n    <tr>\n      <th>1</th>\n      <td>2011-01-20 01:00:00</td>\n      <td>1</td>\n      <td>0</td>\n      <td>1</td>\n      <td>1</td>\n      <td>10.66</td>\n      <td>13.635</td>\n      <td>56</td>\n      <td>0.0000</td>\n    </tr>\n    <tr>\n      <th>2</th>\n      <td>2011-01-20 02:00:00</td>\n      <td>1</td>\n      <td>0</td>\n      <td>1</td>\n      <td>1</td>\n      <td>10.66</td>\n      <td>13.635</td>\n      <td>56</td>\n      <td>0.0000</td>\n    </tr>\n    <tr>\n      <th>3</th>\n      <td>2011-01-20 03:00:00</td>\n      <td>1</td>\n      <td>0</td>\n      <td>1</td>\n      <td>1</td>\n      <td>10.66</td>\n      <td>12.880</td>\n      <td>56</td>\n      <td>11.0014</td>\n    </tr>\n    <tr>\n      <th>4</th>\n      <td>2011-01-20 04:00:00</td>\n      <td>1</td>\n      <td>0</td>\n      <td>1</td>\n      <td>1</td>\n      <td>10.66</td>\n      <td>12.880</td>\n      <td>56</td>\n      <td>11.0014</td>\n    </tr>\n  </tbody>\n</table>\n</div>"
          },
          "metadata": {}
        }
      ]
    },
    {
      "metadata": {
        "_uuid": "d562aad83cc285cf23cf5113c86b437b081e991f"
      },
      "cell_type": "markdown",
      "source": "train과 test 데이터 컬럼을 먼저 살펴보자. casual, registered, count가 test 데이터에는 없다. 우리는 test data를 predict할 것이다"
    },
    {
      "metadata": {
        "trusted": true,
        "_uuid": "5a6e5f1eba277dd0944db97162f27ec5f3ea909e",
        "scrolled": true
      },
      "cell_type": "code",
      "source": "train.info()",
      "execution_count": 6,
      "outputs": [
        {
          "output_type": "stream",
          "text": "<class 'pandas.core.frame.DataFrame'>\nRangeIndex: 10886 entries, 0 to 10885\nData columns (total 12 columns):\ndatetime      10886 non-null object\nseason        10886 non-null int64\nholiday       10886 non-null int64\nworkingday    10886 non-null int64\nweather       10886 non-null int64\ntemp          10886 non-null float64\natemp         10886 non-null float64\nhumidity      10886 non-null int64\nwindspeed     10886 non-null float64\ncasual        10886 non-null int64\nregistered    10886 non-null int64\ncount         10886 non-null int64\ndtypes: float64(3), int64(8), object(1)\nmemory usage: 1020.6+ KB\n",
          "name": "stdout"
        }
      ]
    },
    {
      "metadata": {
        "_uuid": "622c877cbfe911a238e08dc35879af72ff130c57"
      },
      "cell_type": "markdown",
      "source": "train데이터를 살펴본다. \n\nnull data가 없는지 본다. \n\ntype에 datetime은 object로 되어있는데 쪼개 주어야 한다.\n\n지금은 작은데이터니까 int64, float64로 두지만 큰 데이터를 할 때에는 메모리 조절을 데이터를 보며 잘 해줘야 램이 안터진다. "
    },
    {
      "metadata": {
        "trusted": true,
        "_uuid": "1fc435fa1a560e79bf29de39fba6e8d9a03348aa"
      },
      "cell_type": "code",
      "source": "train.shape",
      "execution_count": 7,
      "outputs": [
        {
          "output_type": "execute_result",
          "execution_count": 7,
          "data": {
            "text/plain": "(10886, 12)"
          },
          "metadata": {}
        }
      ]
    },
    {
      "metadata": {
        "_uuid": "c108eabf80b78b09794c40ba071880a533246574"
      },
      "cell_type": "markdown",
      "source": "train 데이터의 컬럼은 12개, 데이터는 10886개임을 확인."
    },
    {
      "metadata": {
        "trusted": true,
        "_uuid": "752797a02607155b63407c19580c1445e2caad77"
      },
      "cell_type": "code",
      "source": "train.isnull().sum()",
      "execution_count": 9,
      "outputs": [
        {
          "output_type": "execute_result",
          "execution_count": 9,
          "data": {
            "text/plain": "datetime      0\nseason        0\nholiday       0\nworkingday    0\nweather       0\ntemp          0\natemp         0\nhumidity      0\nwindspeed     0\ncasual        0\nregistered    0\ncount         0\ndtype: int64"
          },
          "metadata": {}
        }
      ]
    },
    {
      "metadata": {
        "_uuid": "d3fd02d121027e937ed59e8ede738fb3e87dfc85"
      },
      "cell_type": "markdown",
      "source": "이런 방법으로도 null의 합이 0 (null data가 없음) 을 확인할 수 있다."
    },
    {
      "metadata": {
        "_uuid": "456af8d838170d9b7e87d2925758946483e71b43"
      },
      "cell_type": "markdown",
      "source": "## 1.2 데이터 가공"
    },
    {
      "metadata": {
        "_uuid": "5aaa1918c5241c2a31ea6133c9824a3db2277049"
      },
      "cell_type": "markdown",
      "source": "> ### 1.2.1 datetime 쪼개주기\n\ndatetime 은 object형식인데, 숫자로 바꿔서 학습에 넣어줄것이다."
    },
    {
      "metadata": {
        "trusted": true,
        "_uuid": "fe59cf105de019c57d1813bf82f0958aaa33f742"
      },
      "cell_type": "code",
      "source": "train = pd.read_csv(\"../input/train.csv\", parse_dates = [\"datetime\"])\ntest = pd.read_csv(\"../input/test.csv\", parse_dates = [\"datetime\"])",
      "execution_count": 25,
      "outputs": []
    },
    {
      "metadata": {
        "trusted": true,
        "_uuid": "577b0e90b43c1d12ca57e4f67ab7df4a946f487e"
      },
      "cell_type": "code",
      "source": "train.head()",
      "execution_count": 26,
      "outputs": [
        {
          "output_type": "execute_result",
          "execution_count": 26,
          "data": {
            "text/plain": "             datetime  season  holiday  ...    casual  registered  count\n0 2011-01-01 00:00:00       1        0  ...         3          13     16\n1 2011-01-01 01:00:00       1        0  ...         8          32     40\n2 2011-01-01 02:00:00       1        0  ...         5          27     32\n3 2011-01-01 03:00:00       1        0  ...         3          10     13\n4 2011-01-01 04:00:00       1        0  ...         0           1      1\n\n[5 rows x 12 columns]",
            "text/html": "<div>\n<style scoped>\n    .dataframe tbody tr th:only-of-type {\n        vertical-align: middle;\n    }\n\n    .dataframe tbody tr th {\n        vertical-align: top;\n    }\n\n    .dataframe thead th {\n        text-align: right;\n    }\n</style>\n<table border=\"1\" class=\"dataframe\">\n  <thead>\n    <tr style=\"text-align: right;\">\n      <th></th>\n      <th>datetime</th>\n      <th>season</th>\n      <th>holiday</th>\n      <th>workingday</th>\n      <th>weather</th>\n      <th>temp</th>\n      <th>atemp</th>\n      <th>humidity</th>\n      <th>windspeed</th>\n      <th>casual</th>\n      <th>registered</th>\n      <th>count</th>\n    </tr>\n  </thead>\n  <tbody>\n    <tr>\n      <th>0</th>\n      <td>2011-01-01 00:00:00</td>\n      <td>1</td>\n      <td>0</td>\n      <td>0</td>\n      <td>1</td>\n      <td>9.84</td>\n      <td>14.395</td>\n      <td>81</td>\n      <td>0.0</td>\n      <td>3</td>\n      <td>13</td>\n      <td>16</td>\n    </tr>\n    <tr>\n      <th>1</th>\n      <td>2011-01-01 01:00:00</td>\n      <td>1</td>\n      <td>0</td>\n      <td>0</td>\n      <td>1</td>\n      <td>9.02</td>\n      <td>13.635</td>\n      <td>80</td>\n      <td>0.0</td>\n      <td>8</td>\n      <td>32</td>\n      <td>40</td>\n    </tr>\n    <tr>\n      <th>2</th>\n      <td>2011-01-01 02:00:00</td>\n      <td>1</td>\n      <td>0</td>\n      <td>0</td>\n      <td>1</td>\n      <td>9.02</td>\n      <td>13.635</td>\n      <td>80</td>\n      <td>0.0</td>\n      <td>5</td>\n      <td>27</td>\n      <td>32</td>\n    </tr>\n    <tr>\n      <th>3</th>\n      <td>2011-01-01 03:00:00</td>\n      <td>1</td>\n      <td>0</td>\n      <td>0</td>\n      <td>1</td>\n      <td>9.84</td>\n      <td>14.395</td>\n      <td>75</td>\n      <td>0.0</td>\n      <td>3</td>\n      <td>10</td>\n      <td>13</td>\n    </tr>\n    <tr>\n      <th>4</th>\n      <td>2011-01-01 04:00:00</td>\n      <td>1</td>\n      <td>0</td>\n      <td>0</td>\n      <td>1</td>\n      <td>9.84</td>\n      <td>14.395</td>\n      <td>75</td>\n      <td>0.0</td>\n      <td>0</td>\n      <td>1</td>\n      <td>1</td>\n    </tr>\n  </tbody>\n</table>\n</div>"
          },
          "metadata": {}
        }
      ]
    },
    {
      "metadata": {
        "trusted": true,
        "_uuid": "2c2d71f17fd9daa0c72e0ad2c4143000d0cb8e71",
        "scrolled": true
      },
      "cell_type": "code",
      "source": "train.info()",
      "execution_count": 27,
      "outputs": [
        {
          "output_type": "stream",
          "text": "<class 'pandas.core.frame.DataFrame'>\nRangeIndex: 10886 entries, 0 to 10885\nData columns (total 12 columns):\ndatetime      10886 non-null datetime64[ns]\nseason        10886 non-null int64\nholiday       10886 non-null int64\nworkingday    10886 non-null int64\nweather       10886 non-null int64\ntemp          10886 non-null float64\natemp         10886 non-null float64\nhumidity      10886 non-null int64\nwindspeed     10886 non-null float64\ncasual        10886 non-null int64\nregistered    10886 non-null int64\ncount         10886 non-null int64\ndtypes: datetime64[ns](1), float64(3), int64(8)\nmemory usage: 1020.6 KB\n",
          "name": "stdout"
        }
      ]
    },
    {
      "metadata": {
        "_uuid": "4818ef6557ccabf4ac79cc87658abfb938cded66"
      },
      "cell_type": "markdown",
      "source": "datetime의 형식이 바뀌었음을 볼 수 있다. "
    },
    {
      "metadata": {
        "_uuid": "232edb24911eb79c8c15afd1772c1b96b46325a3"
      },
      "cell_type": "markdown",
      "source": "datetime에서 연도, 시간, 요일을 가져올 것이다. \n\n이 데이터에서 연도는 2011, 2012 두가지가 있기 때문에 가져오는 것이고,\n\n월은 season에서 반영이 되어있기때문에 가져오지 않고,\n\n일은 train과 test데이터에서 날짜가 나뉘어 있어서 가져오지 않는 것이 훨씬 좋다.\n\n분, 초는 0이어서 가져오지 않는다."
    },
    {
      "metadata": {
        "trusted": true,
        "_uuid": "a9986e3838547949048e5326ac1268e973e6c8f4"
      },
      "cell_type": "code",
      "source": "train[\"year\"] = train[\"datetime\"].dt.year\ntrain[\"hour\"] = train[\"datetime\"].dt.hour\ntrain[\"dayofweek\"] = train[\"datetime\"].dt.dayofweek\n\ntest[\"year\"] = test[\"datetime\"].dt.year\ntest[\"hour\"] = test[\"datetime\"].dt.hour\ntest[\"dayofweek\"] = test[\"datetime\"].dt.dayofweek",
      "execution_count": 28,
      "outputs": []
    },
    {
      "metadata": {
        "trusted": true,
        "_uuid": "76212f2fcad45e8a3450cc5289c8b9bd5fd74402"
      },
      "cell_type": "code",
      "source": "train.head()",
      "execution_count": 29,
      "outputs": [
        {
          "output_type": "execute_result",
          "execution_count": 29,
          "data": {
            "text/plain": "             datetime  season  holiday    ...      year  hour  dayofweek\n0 2011-01-01 00:00:00       1        0    ...      2011     0          5\n1 2011-01-01 01:00:00       1        0    ...      2011     1          5\n2 2011-01-01 02:00:00       1        0    ...      2011     2          5\n3 2011-01-01 03:00:00       1        0    ...      2011     3          5\n4 2011-01-01 04:00:00       1        0    ...      2011     4          5\n\n[5 rows x 15 columns]",
            "text/html": "<div>\n<style scoped>\n    .dataframe tbody tr th:only-of-type {\n        vertical-align: middle;\n    }\n\n    .dataframe tbody tr th {\n        vertical-align: top;\n    }\n\n    .dataframe thead th {\n        text-align: right;\n    }\n</style>\n<table border=\"1\" class=\"dataframe\">\n  <thead>\n    <tr style=\"text-align: right;\">\n      <th></th>\n      <th>datetime</th>\n      <th>season</th>\n      <th>holiday</th>\n      <th>workingday</th>\n      <th>weather</th>\n      <th>temp</th>\n      <th>atemp</th>\n      <th>humidity</th>\n      <th>windspeed</th>\n      <th>casual</th>\n      <th>registered</th>\n      <th>count</th>\n      <th>year</th>\n      <th>hour</th>\n      <th>dayofweek</th>\n    </tr>\n  </thead>\n  <tbody>\n    <tr>\n      <th>0</th>\n      <td>2011-01-01 00:00:00</td>\n      <td>1</td>\n      <td>0</td>\n      <td>0</td>\n      <td>1</td>\n      <td>9.84</td>\n      <td>14.395</td>\n      <td>81</td>\n      <td>0.0</td>\n      <td>3</td>\n      <td>13</td>\n      <td>16</td>\n      <td>2011</td>\n      <td>0</td>\n      <td>5</td>\n    </tr>\n    <tr>\n      <th>1</th>\n      <td>2011-01-01 01:00:00</td>\n      <td>1</td>\n      <td>0</td>\n      <td>0</td>\n      <td>1</td>\n      <td>9.02</td>\n      <td>13.635</td>\n      <td>80</td>\n      <td>0.0</td>\n      <td>8</td>\n      <td>32</td>\n      <td>40</td>\n      <td>2011</td>\n      <td>1</td>\n      <td>5</td>\n    </tr>\n    <tr>\n      <th>2</th>\n      <td>2011-01-01 02:00:00</td>\n      <td>1</td>\n      <td>0</td>\n      <td>0</td>\n      <td>1</td>\n      <td>9.02</td>\n      <td>13.635</td>\n      <td>80</td>\n      <td>0.0</td>\n      <td>5</td>\n      <td>27</td>\n      <td>32</td>\n      <td>2011</td>\n      <td>2</td>\n      <td>5</td>\n    </tr>\n    <tr>\n      <th>3</th>\n      <td>2011-01-01 03:00:00</td>\n      <td>1</td>\n      <td>0</td>\n      <td>0</td>\n      <td>1</td>\n      <td>9.84</td>\n      <td>14.395</td>\n      <td>75</td>\n      <td>0.0</td>\n      <td>3</td>\n      <td>10</td>\n      <td>13</td>\n      <td>2011</td>\n      <td>3</td>\n      <td>5</td>\n    </tr>\n    <tr>\n      <th>4</th>\n      <td>2011-01-01 04:00:00</td>\n      <td>1</td>\n      <td>0</td>\n      <td>0</td>\n      <td>1</td>\n      <td>9.84</td>\n      <td>14.395</td>\n      <td>75</td>\n      <td>0.0</td>\n      <td>0</td>\n      <td>1</td>\n      <td>1</td>\n      <td>2011</td>\n      <td>4</td>\n      <td>5</td>\n    </tr>\n  </tbody>\n</table>\n</div>"
          },
          "metadata": {}
        }
      ]
    },
    {
      "metadata": {
        "trusted": true,
        "_uuid": "9702c6239239db16925b5406bfa903f8096b5308"
      },
      "cell_type": "code",
      "source": "train.info()",
      "execution_count": 30,
      "outputs": [
        {
          "output_type": "stream",
          "text": "<class 'pandas.core.frame.DataFrame'>\nRangeIndex: 10886 entries, 0 to 10885\nData columns (total 15 columns):\ndatetime      10886 non-null datetime64[ns]\nseason        10886 non-null int64\nholiday       10886 non-null int64\nworkingday    10886 non-null int64\nweather       10886 non-null int64\ntemp          10886 non-null float64\natemp         10886 non-null float64\nhumidity      10886 non-null int64\nwindspeed     10886 non-null float64\ncasual        10886 non-null int64\nregistered    10886 non-null int64\ncount         10886 non-null int64\nyear          10886 non-null int64\nhour          10886 non-null int64\ndayofweek     10886 non-null int64\ndtypes: datetime64[ns](1), float64(3), int64(11)\nmemory usage: 1.2 MB\n",
          "name": "stdout"
        }
      ]
    },
    {
      "metadata": {
        "trusted": true,
        "_uuid": "8b5fb6e8604b397ade06c86bbd994f3cb8515414"
      },
      "cell_type": "code",
      "source": "test.info()",
      "execution_count": 31,
      "outputs": [
        {
          "output_type": "stream",
          "text": "<class 'pandas.core.frame.DataFrame'>\nRangeIndex: 6493 entries, 0 to 6492\nData columns (total 12 columns):\ndatetime      6493 non-null datetime64[ns]\nseason        6493 non-null int64\nholiday       6493 non-null int64\nworkingday    6493 non-null int64\nweather       6493 non-null int64\ntemp          6493 non-null float64\natemp         6493 non-null float64\nhumidity      6493 non-null int64\nwindspeed     6493 non-null float64\nyear          6493 non-null int64\nhour          6493 non-null int64\ndayofweek     6493 non-null int64\ndtypes: datetime64[ns](1), float64(3), int64(8)\nmemory usage: 608.8 KB\n",
          "name": "stdout"
        }
      ]
    },
    {
      "metadata": {
        "trusted": true,
        "_uuid": "c45d74b38fd007ac7bdb8aea26c2618d18f6cbef"
      },
      "cell_type": "code",
      "source": "test.head()",
      "execution_count": 32,
      "outputs": [
        {
          "output_type": "execute_result",
          "execution_count": 32,
          "data": {
            "text/plain": "             datetime  season  holiday    ...      year  hour  dayofweek\n0 2011-01-20 00:00:00       1        0    ...      2011     0          3\n1 2011-01-20 01:00:00       1        0    ...      2011     1          3\n2 2011-01-20 02:00:00       1        0    ...      2011     2          3\n3 2011-01-20 03:00:00       1        0    ...      2011     3          3\n4 2011-01-20 04:00:00       1        0    ...      2011     4          3\n\n[5 rows x 12 columns]",
            "text/html": "<div>\n<style scoped>\n    .dataframe tbody tr th:only-of-type {\n        vertical-align: middle;\n    }\n\n    .dataframe tbody tr th {\n        vertical-align: top;\n    }\n\n    .dataframe thead th {\n        text-align: right;\n    }\n</style>\n<table border=\"1\" class=\"dataframe\">\n  <thead>\n    <tr style=\"text-align: right;\">\n      <th></th>\n      <th>datetime</th>\n      <th>season</th>\n      <th>holiday</th>\n      <th>workingday</th>\n      <th>weather</th>\n      <th>temp</th>\n      <th>atemp</th>\n      <th>humidity</th>\n      <th>windspeed</th>\n      <th>year</th>\n      <th>hour</th>\n      <th>dayofweek</th>\n    </tr>\n  </thead>\n  <tbody>\n    <tr>\n      <th>0</th>\n      <td>2011-01-20 00:00:00</td>\n      <td>1</td>\n      <td>0</td>\n      <td>1</td>\n      <td>1</td>\n      <td>10.66</td>\n      <td>11.365</td>\n      <td>56</td>\n      <td>26.0027</td>\n      <td>2011</td>\n      <td>0</td>\n      <td>3</td>\n    </tr>\n    <tr>\n      <th>1</th>\n      <td>2011-01-20 01:00:00</td>\n      <td>1</td>\n      <td>0</td>\n      <td>1</td>\n      <td>1</td>\n      <td>10.66</td>\n      <td>13.635</td>\n      <td>56</td>\n      <td>0.0000</td>\n      <td>2011</td>\n      <td>1</td>\n      <td>3</td>\n    </tr>\n    <tr>\n      <th>2</th>\n      <td>2011-01-20 02:00:00</td>\n      <td>1</td>\n      <td>0</td>\n      <td>1</td>\n      <td>1</td>\n      <td>10.66</td>\n      <td>13.635</td>\n      <td>56</td>\n      <td>0.0000</td>\n      <td>2011</td>\n      <td>2</td>\n      <td>3</td>\n    </tr>\n    <tr>\n      <th>3</th>\n      <td>2011-01-20 03:00:00</td>\n      <td>1</td>\n      <td>0</td>\n      <td>1</td>\n      <td>1</td>\n      <td>10.66</td>\n      <td>12.880</td>\n      <td>56</td>\n      <td>11.0014</td>\n      <td>2011</td>\n      <td>3</td>\n      <td>3</td>\n    </tr>\n    <tr>\n      <th>4</th>\n      <td>2011-01-20 04:00:00</td>\n      <td>1</td>\n      <td>0</td>\n      <td>1</td>\n      <td>1</td>\n      <td>10.66</td>\n      <td>12.880</td>\n      <td>56</td>\n      <td>11.0014</td>\n      <td>2011</td>\n      <td>4</td>\n      <td>3</td>\n    </tr>\n  </tbody>\n</table>\n</div>"
          },
          "metadata": {}
        }
      ]
    },
    {
      "metadata": {
        "_uuid": "593abb45e7efc868a7cb9518625f3eb5d946c4e8"
      },
      "cell_type": "markdown",
      "source": "학습시킬 레이블은 y라는 변수로 따로 빼준다."
    },
    {
      "metadata": {
        "trusted": true,
        "_uuid": "1b050df0a15dab0166f068eaf1a43e3d4763a736"
      },
      "cell_type": "code",
      "source": "y_train = train[\"count\"]",
      "execution_count": 33,
      "outputs": []
    },
    {
      "metadata": {
        "trusted": true,
        "_uuid": "567c3b69b610fa5333f91d5367c4c0a3c3ab64ad"
      },
      "cell_type": "code",
      "source": "y_train.head()",
      "execution_count": 34,
      "outputs": [
        {
          "output_type": "execute_result",
          "execution_count": 34,
          "data": {
            "text/plain": "0    16\n1    40\n2    32\n3    13\n4     1\nName: count, dtype: int64"
          },
          "metadata": {}
        }
      ]
    },
    {
      "metadata": {
        "_uuid": "b253b5a2414e944a30819ee716624f3997c4d9ba"
      },
      "cell_type": "markdown",
      "source": "y의 분포가 skew 되어있기 때문에 로그화를 해준다. 대부분의 데이터는 로그화로 충분하게 스케일된다."
    },
    {
      "metadata": {
        "trusted": true,
        "_uuid": "b7a470b5480e9086ad61b20d7acab79ee1fd82b9"
      },
      "cell_type": "code",
      "source": "y_train = np.log1p(y_train)",
      "execution_count": 35,
      "outputs": []
    },
    {
      "metadata": {
        "_uuid": "5d51cbb8e7a0f2cc616f958bc64487d953987c58"
      },
      "cell_type": "markdown",
      "source": "학습시킬 feature에서 없앨 것을 없앤다. \n\ndatetime은 쪼갰으니까 없애고, \n\nwindspeed는 큰 영향을 주지 않는다고 판단해서 없애고\n\ncasual과 registered는 우선 없애고 다음 커널에서 활용하기 위해 없애고\n\ncount는 우리가 예측할 값으로 빼주었으므로 지운다. \n\n1은 axis방향이고, inplace=True는 지금바로 드랍할것인지를 의미한다."
    },
    {
      "metadata": {
        "trusted": true,
        "_uuid": "824410c6404832e372b36dfdf3f72caa027b4196"
      },
      "cell_type": "code",
      "source": "train.head()",
      "execution_count": 36,
      "outputs": [
        {
          "output_type": "execute_result",
          "execution_count": 36,
          "data": {
            "text/plain": "             datetime  season  holiday    ...      year  hour  dayofweek\n0 2011-01-01 00:00:00       1        0    ...      2011     0          5\n1 2011-01-01 01:00:00       1        0    ...      2011     1          5\n2 2011-01-01 02:00:00       1        0    ...      2011     2          5\n3 2011-01-01 03:00:00       1        0    ...      2011     3          5\n4 2011-01-01 04:00:00       1        0    ...      2011     4          5\n\n[5 rows x 15 columns]",
            "text/html": "<div>\n<style scoped>\n    .dataframe tbody tr th:only-of-type {\n        vertical-align: middle;\n    }\n\n    .dataframe tbody tr th {\n        vertical-align: top;\n    }\n\n    .dataframe thead th {\n        text-align: right;\n    }\n</style>\n<table border=\"1\" class=\"dataframe\">\n  <thead>\n    <tr style=\"text-align: right;\">\n      <th></th>\n      <th>datetime</th>\n      <th>season</th>\n      <th>holiday</th>\n      <th>workingday</th>\n      <th>weather</th>\n      <th>temp</th>\n      <th>atemp</th>\n      <th>humidity</th>\n      <th>windspeed</th>\n      <th>casual</th>\n      <th>registered</th>\n      <th>count</th>\n      <th>year</th>\n      <th>hour</th>\n      <th>dayofweek</th>\n    </tr>\n  </thead>\n  <tbody>\n    <tr>\n      <th>0</th>\n      <td>2011-01-01 00:00:00</td>\n      <td>1</td>\n      <td>0</td>\n      <td>0</td>\n      <td>1</td>\n      <td>9.84</td>\n      <td>14.395</td>\n      <td>81</td>\n      <td>0.0</td>\n      <td>3</td>\n      <td>13</td>\n      <td>16</td>\n      <td>2011</td>\n      <td>0</td>\n      <td>5</td>\n    </tr>\n    <tr>\n      <th>1</th>\n      <td>2011-01-01 01:00:00</td>\n      <td>1</td>\n      <td>0</td>\n      <td>0</td>\n      <td>1</td>\n      <td>9.02</td>\n      <td>13.635</td>\n      <td>80</td>\n      <td>0.0</td>\n      <td>8</td>\n      <td>32</td>\n      <td>40</td>\n      <td>2011</td>\n      <td>1</td>\n      <td>5</td>\n    </tr>\n    <tr>\n      <th>2</th>\n      <td>2011-01-01 02:00:00</td>\n      <td>1</td>\n      <td>0</td>\n      <td>0</td>\n      <td>1</td>\n      <td>9.02</td>\n      <td>13.635</td>\n      <td>80</td>\n      <td>0.0</td>\n      <td>5</td>\n      <td>27</td>\n      <td>32</td>\n      <td>2011</td>\n      <td>2</td>\n      <td>5</td>\n    </tr>\n    <tr>\n      <th>3</th>\n      <td>2011-01-01 03:00:00</td>\n      <td>1</td>\n      <td>0</td>\n      <td>0</td>\n      <td>1</td>\n      <td>9.84</td>\n      <td>14.395</td>\n      <td>75</td>\n      <td>0.0</td>\n      <td>3</td>\n      <td>10</td>\n      <td>13</td>\n      <td>2011</td>\n      <td>3</td>\n      <td>5</td>\n    </tr>\n    <tr>\n      <th>4</th>\n      <td>2011-01-01 04:00:00</td>\n      <td>1</td>\n      <td>0</td>\n      <td>0</td>\n      <td>1</td>\n      <td>9.84</td>\n      <td>14.395</td>\n      <td>75</td>\n      <td>0.0</td>\n      <td>0</td>\n      <td>1</td>\n      <td>1</td>\n      <td>2011</td>\n      <td>4</td>\n      <td>5</td>\n    </tr>\n  </tbody>\n</table>\n</div>"
          },
          "metadata": {}
        }
      ]
    },
    {
      "metadata": {
        "trusted": true,
        "_uuid": "66e72416262908966fd4736a75681ca3404ba9f3"
      },
      "cell_type": "code",
      "source": "train.drop([\"datetime\", \"windspeed\",  \"casual\", \"registered\", \"count\"], 1, inplace=True)",
      "execution_count": 37,
      "outputs": []
    },
    {
      "metadata": {
        "trusted": true,
        "_uuid": "15854a20a871441006330ab48526e22b99bb7411"
      },
      "cell_type": "code",
      "source": "train.head()",
      "execution_count": 38,
      "outputs": [
        {
          "output_type": "execute_result",
          "execution_count": 38,
          "data": {
            "text/plain": "   season  holiday  workingday    ...      year  hour  dayofweek\n0       1        0           0    ...      2011     0          5\n1       1        0           0    ...      2011     1          5\n2       1        0           0    ...      2011     2          5\n3       1        0           0    ...      2011     3          5\n4       1        0           0    ...      2011     4          5\n\n[5 rows x 10 columns]",
            "text/html": "<div>\n<style scoped>\n    .dataframe tbody tr th:only-of-type {\n        vertical-align: middle;\n    }\n\n    .dataframe tbody tr th {\n        vertical-align: top;\n    }\n\n    .dataframe thead th {\n        text-align: right;\n    }\n</style>\n<table border=\"1\" class=\"dataframe\">\n  <thead>\n    <tr style=\"text-align: right;\">\n      <th></th>\n      <th>season</th>\n      <th>holiday</th>\n      <th>workingday</th>\n      <th>weather</th>\n      <th>temp</th>\n      <th>atemp</th>\n      <th>humidity</th>\n      <th>year</th>\n      <th>hour</th>\n      <th>dayofweek</th>\n    </tr>\n  </thead>\n  <tbody>\n    <tr>\n      <th>0</th>\n      <td>1</td>\n      <td>0</td>\n      <td>0</td>\n      <td>1</td>\n      <td>9.84</td>\n      <td>14.395</td>\n      <td>81</td>\n      <td>2011</td>\n      <td>0</td>\n      <td>5</td>\n    </tr>\n    <tr>\n      <th>1</th>\n      <td>1</td>\n      <td>0</td>\n      <td>0</td>\n      <td>1</td>\n      <td>9.02</td>\n      <td>13.635</td>\n      <td>80</td>\n      <td>2011</td>\n      <td>1</td>\n      <td>5</td>\n    </tr>\n    <tr>\n      <th>2</th>\n      <td>1</td>\n      <td>0</td>\n      <td>0</td>\n      <td>1</td>\n      <td>9.02</td>\n      <td>13.635</td>\n      <td>80</td>\n      <td>2011</td>\n      <td>2</td>\n      <td>5</td>\n    </tr>\n    <tr>\n      <th>3</th>\n      <td>1</td>\n      <td>0</td>\n      <td>0</td>\n      <td>1</td>\n      <td>9.84</td>\n      <td>14.395</td>\n      <td>75</td>\n      <td>2011</td>\n      <td>3</td>\n      <td>5</td>\n    </tr>\n    <tr>\n      <th>4</th>\n      <td>1</td>\n      <td>0</td>\n      <td>0</td>\n      <td>1</td>\n      <td>9.84</td>\n      <td>14.395</td>\n      <td>75</td>\n      <td>2011</td>\n      <td>4</td>\n      <td>5</td>\n    </tr>\n  </tbody>\n</table>\n</div>"
          },
          "metadata": {}
        }
      ]
    },
    {
      "metadata": {
        "_uuid": "bc2bb01ed9728a8650cf56a48211f2226c425065"
      },
      "cell_type": "markdown",
      "source": " test도 마찬가지로 지워준다.\n \n 얘는 원래 casual, registered, count는 없었으니 두개만 지워준다."
    },
    {
      "metadata": {
        "trusted": true,
        "_uuid": "a99d07979fabe5d4c0c66e02419c3275ef5c0c28"
      },
      "cell_type": "code",
      "source": "test.drop([\"datetime\", \"windspeed\"], 1, inplace=True)",
      "execution_count": 39,
      "outputs": []
    },
    {
      "metadata": {
        "trusted": true,
        "_uuid": "0febf08f0abe067c706239f3534cef0eca2ad8e0"
      },
      "cell_type": "code",
      "source": "test.head()",
      "execution_count": 41,
      "outputs": [
        {
          "output_type": "execute_result",
          "execution_count": 41,
          "data": {
            "text/plain": "   season  holiday  workingday    ...      year  hour  dayofweek\n0       1        0           1    ...      2011     0          3\n1       1        0           1    ...      2011     1          3\n2       1        0           1    ...      2011     2          3\n3       1        0           1    ...      2011     3          3\n4       1        0           1    ...      2011     4          3\n\n[5 rows x 10 columns]",
            "text/html": "<div>\n<style scoped>\n    .dataframe tbody tr th:only-of-type {\n        vertical-align: middle;\n    }\n\n    .dataframe tbody tr th {\n        vertical-align: top;\n    }\n\n    .dataframe thead th {\n        text-align: right;\n    }\n</style>\n<table border=\"1\" class=\"dataframe\">\n  <thead>\n    <tr style=\"text-align: right;\">\n      <th></th>\n      <th>season</th>\n      <th>holiday</th>\n      <th>workingday</th>\n      <th>weather</th>\n      <th>temp</th>\n      <th>atemp</th>\n      <th>humidity</th>\n      <th>year</th>\n      <th>hour</th>\n      <th>dayofweek</th>\n    </tr>\n  </thead>\n  <tbody>\n    <tr>\n      <th>0</th>\n      <td>1</td>\n      <td>0</td>\n      <td>1</td>\n      <td>1</td>\n      <td>10.66</td>\n      <td>11.365</td>\n      <td>56</td>\n      <td>2011</td>\n      <td>0</td>\n      <td>3</td>\n    </tr>\n    <tr>\n      <th>1</th>\n      <td>1</td>\n      <td>0</td>\n      <td>1</td>\n      <td>1</td>\n      <td>10.66</td>\n      <td>13.635</td>\n      <td>56</td>\n      <td>2011</td>\n      <td>1</td>\n      <td>3</td>\n    </tr>\n    <tr>\n      <th>2</th>\n      <td>1</td>\n      <td>0</td>\n      <td>1</td>\n      <td>1</td>\n      <td>10.66</td>\n      <td>13.635</td>\n      <td>56</td>\n      <td>2011</td>\n      <td>2</td>\n      <td>3</td>\n    </tr>\n    <tr>\n      <th>3</th>\n      <td>1</td>\n      <td>0</td>\n      <td>1</td>\n      <td>1</td>\n      <td>10.66</td>\n      <td>12.880</td>\n      <td>56</td>\n      <td>2011</td>\n      <td>3</td>\n      <td>3</td>\n    </tr>\n    <tr>\n      <th>4</th>\n      <td>1</td>\n      <td>0</td>\n      <td>1</td>\n      <td>1</td>\n      <td>10.66</td>\n      <td>12.880</td>\n      <td>56</td>\n      <td>2011</td>\n      <td>4</td>\n      <td>3</td>\n    </tr>\n  </tbody>\n</table>\n</div>"
          },
          "metadata": {}
        }
      ]
    },
    {
      "metadata": {
        "_uuid": "badb6325ad7ade624dcf8b78ae903cabda618070"
      },
      "cell_type": "markdown",
      "source": "# 2. 모델링"
    },
    {
      "metadata": {
        "_uuid": "95538ec9a9bf7df1df38aa36c4371d738a119255"
      },
      "cell_type": "markdown",
      "source": "랜덤포리스트를 베이스라인으로 만들어보자. RandomForestRegressor를 가져온다. 대부분의 모델들이 Classifier와 Regressor로 두개씩 있다."
    },
    {
      "metadata": {
        "trusted": true,
        "_uuid": "c65126a60c97d7017aaeecdf10260d0479e3edf7"
      },
      "cell_type": "code",
      "source": "from sklearn.ensemble import RandomForestRegressor",
      "execution_count": 42,
      "outputs": []
    },
    {
      "metadata": {
        "_uuid": "08aeb2497e64abb11c3819c748e1bbe8c21b76af"
      },
      "cell_type": "markdown",
      "source": "estimator는 많다고 좋은것은 아니다.  적당한게 좋다."
    },
    {
      "metadata": {
        "trusted": true,
        "_uuid": "b4231e7f7f9bcb62daea5bae58815300c5cb6f0d"
      },
      "cell_type": "code",
      "source": "rf = RandomForestRegressor(n_estimators=100)",
      "execution_count": 43,
      "outputs": []
    },
    {
      "metadata": {
        "trusted": true,
        "_uuid": "f222a632dc1dd11ec22e8aac805275fdba82dc49"
      },
      "cell_type": "code",
      "source": "rf.fit(train,y_train)",
      "execution_count": 44,
      "outputs": [
        {
          "output_type": "execute_result",
          "execution_count": 44,
          "data": {
            "text/plain": "RandomForestRegressor(bootstrap=True, criterion='mse', max_depth=None,\n           max_features='auto', max_leaf_nodes=None,\n           min_impurity_decrease=0.0, min_impurity_split=None,\n           min_samples_leaf=1, min_samples_split=2,\n           min_weight_fraction_leaf=0.0, n_estimators=100, n_jobs=None,\n           oob_score=False, random_state=None, verbose=0, warm_start=False)"
          },
          "metadata": {}
        }
      ]
    },
    {
      "metadata": {
        "trusted": true,
        "_uuid": "a8c87f2111418fa5d2598e5bd1310cc3146ef08e"
      },
      "cell_type": "code",
      "source": "preds = rf.predict(test)",
      "execution_count": 62,
      "outputs": []
    },
    {
      "metadata": {
        "_uuid": "b499d4098959f841531dd9c771cdb4a8fa0cad36"
      },
      "cell_type": "markdown",
      "source": "제출할 파일을 만든다."
    },
    {
      "metadata": {
        "trusted": true,
        "_uuid": "1872a7981cb2ef890571d20fe57eed49278396de"
      },
      "cell_type": "code",
      "source": "submission=pd.read_csv(\"../input/sampleSubmission.csv\")",
      "execution_count": 63,
      "outputs": []
    },
    {
      "metadata": {
        "_uuid": "85c6ad0097f00f30262d7899bb213024ebb30e94"
      },
      "cell_type": "markdown",
      "source": "count 컬럼에 데이터를 넣어준다."
    },
    {
      "metadata": {
        "trusted": true,
        "_uuid": "b5b9ceeb487b150b06c2b6c4c0ab4d451b5ec6d8"
      },
      "cell_type": "code",
      "source": "submission[\"count\"] = preds ",
      "execution_count": 64,
      "outputs": []
    },
    {
      "metadata": {
        "trusted": true,
        "_uuid": "f30eba70f9188ff4eca461a4628a3dc3bd0b21a0",
        "scrolled": true
      },
      "cell_type": "code",
      "source": "submission.head()",
      "execution_count": 65,
      "outputs": [
        {
          "output_type": "execute_result",
          "execution_count": 65,
          "data": {
            "text/plain": "              datetime     count\n0  2011-01-20 00:00:00  2.527208\n1  2011-01-20 01:00:00  1.791576\n2  2011-01-20 02:00:00  1.339690\n3  2011-01-20 03:00:00  1.563833\n4  2011-01-20 04:00:00  1.328329",
            "text/html": "<div>\n<style scoped>\n    .dataframe tbody tr th:only-of-type {\n        vertical-align: middle;\n    }\n\n    .dataframe tbody tr th {\n        vertical-align: top;\n    }\n\n    .dataframe thead th {\n        text-align: right;\n    }\n</style>\n<table border=\"1\" class=\"dataframe\">\n  <thead>\n    <tr style=\"text-align: right;\">\n      <th></th>\n      <th>datetime</th>\n      <th>count</th>\n    </tr>\n  </thead>\n  <tbody>\n    <tr>\n      <th>0</th>\n      <td>2011-01-20 00:00:00</td>\n      <td>2.527208</td>\n    </tr>\n    <tr>\n      <th>1</th>\n      <td>2011-01-20 01:00:00</td>\n      <td>1.791576</td>\n    </tr>\n    <tr>\n      <th>2</th>\n      <td>2011-01-20 02:00:00</td>\n      <td>1.339690</td>\n    </tr>\n    <tr>\n      <th>3</th>\n      <td>2011-01-20 03:00:00</td>\n      <td>1.563833</td>\n    </tr>\n    <tr>\n      <th>4</th>\n      <td>2011-01-20 04:00:00</td>\n      <td>1.328329</td>\n    </tr>\n  </tbody>\n</table>\n</div>"
          },
          "metadata": {}
        }
      ]
    },
    {
      "metadata": {
        "_uuid": "c89bbe313a3491ccd7b73acbd1eb745cd2dc9879"
      },
      "cell_type": "markdown",
      "source": "count값이 이상한걸 확인할 수 있다. 아까 우리가 로그화를 해서 그렇다. 다시 돌려주자."
    },
    {
      "metadata": {
        "trusted": true,
        "_uuid": "6ec65f3b214055456bb574cc48eb9fd07c5b17f8"
      },
      "cell_type": "code",
      "source": "# preds = np.expm1(preds)\n# submission[\"count\"] = preds ",
      "execution_count": 68,
      "outputs": []
    },
    {
      "metadata": {
        "trusted": true,
        "_uuid": "d1e028a8740b82ddb932acfcc6e4c4de69e85368"
      },
      "cell_type": "code",
      "source": "submission[\"count\"] = np.expm1(preds)",
      "execution_count": 66,
      "outputs": []
    },
    {
      "metadata": {
        "trusted": true,
        "_uuid": "48220d2274ec1a494aefbda35bde16ec7b9ba2ac"
      },
      "cell_type": "code",
      "source": "submission.head()",
      "execution_count": 67,
      "outputs": [
        {
          "output_type": "execute_result",
          "execution_count": 67,
          "data": {
            "text/plain": "              datetime      count\n0  2011-01-20 00:00:00  11.518502\n1  2011-01-20 01:00:00   4.998900\n2  2011-01-20 02:00:00   2.817859\n3  2011-01-20 03:00:00   3.777095\n4  2011-01-20 04:00:00   2.774730",
            "text/html": "<div>\n<style scoped>\n    .dataframe tbody tr th:only-of-type {\n        vertical-align: middle;\n    }\n\n    .dataframe tbody tr th {\n        vertical-align: top;\n    }\n\n    .dataframe thead th {\n        text-align: right;\n    }\n</style>\n<table border=\"1\" class=\"dataframe\">\n  <thead>\n    <tr style=\"text-align: right;\">\n      <th></th>\n      <th>datetime</th>\n      <th>count</th>\n    </tr>\n  </thead>\n  <tbody>\n    <tr>\n      <th>0</th>\n      <td>2011-01-20 00:00:00</td>\n      <td>11.518502</td>\n    </tr>\n    <tr>\n      <th>1</th>\n      <td>2011-01-20 01:00:00</td>\n      <td>4.998900</td>\n    </tr>\n    <tr>\n      <th>2</th>\n      <td>2011-01-20 02:00:00</td>\n      <td>2.817859</td>\n    </tr>\n    <tr>\n      <th>3</th>\n      <td>2011-01-20 03:00:00</td>\n      <td>3.777095</td>\n    </tr>\n    <tr>\n      <th>4</th>\n      <td>2011-01-20 04:00:00</td>\n      <td>2.774730</td>\n    </tr>\n  </tbody>\n</table>\n</div>"
          },
          "metadata": {}
        }
      ]
    },
    {
      "metadata": {
        "_uuid": "c9988763adf3a0d5979d9dac3515a7ffe22cd1a1"
      },
      "cell_type": "markdown",
      "source": "count값이 정상적으로 돌아왔다. 제출할수 있다!\ncsv파일로 만들어주자."
    },
    {
      "metadata": {
        "trusted": true,
        "_uuid": "3567eaa5060598dc3a9b182ba55011ed83b93344"
      },
      "cell_type": "code",
      "source": "submission.to_csv(\"allrf.csv\", index=False)",
      "execution_count": 69,
      "outputs": []
    },
    {
      "metadata": {
        "_uuid": "fbfba32c94623a7f9a8d5b39ac32071eff1ca9cb"
      },
      "cell_type": "markdown",
      "source": "# 3. Results"
    },
    {
      "metadata": {
        "trusted": true,
        "_uuid": "aaeb71cf89e82bcef74ddff6071fcb4c7427ce9a"
      },
      "cell_type": "markdown",
      "source": "public score 0.39513이 나왔다. 이 대회는 이미 4년 전에 끝난 대회여서 아쉽게도 등수 확인은 못 하지만, 예전 리더보드 기준으로 3251팀 중 185등, 약 상위 5.69%의 성적임을 확인할 수 있다. "
    },
    {
      "metadata": {
        "_uuid": "78ac7fa05ab506ee12b49e8efc78149e371cae47"
      },
      "cell_type": "markdown",
      "source": "물론 아직 진행되고 있는 대회는 아니지만, 데이터 관찰과 분석, 그리고 랜덤포리스트 베이스라인 모델만으로 거둔 것에 의미가 있다. \n\n다음 커널에서는 casual과 registered 컬럼을 활용해서 결과를 조금 더 올려보겠다."
    },
    {
      "metadata": {
        "trusted": true,
        "_uuid": "6995a8d5a21924f68fc5788f152cf9813a91ee13"
      },
      "cell_type": "code",
      "source": "",
      "execution_count": null,
      "outputs": []
    }
  ],
  "metadata": {
    "kernelspec": {
      "display_name": "Python 3",
      "language": "python",
      "name": "python3"
    },
    "language_info": {
      "name": "python",
      "version": "3.6.6",
      "mimetype": "text/x-python",
      "codemirror_mode": {
        "name": "ipython",
        "version": 3
      },
      "pygments_lexer": "ipython3",
      "nbconvert_exporter": "python",
      "file_extension": ".py"
    }
  },
  "nbformat": 4,
  "nbformat_minor": 1
}