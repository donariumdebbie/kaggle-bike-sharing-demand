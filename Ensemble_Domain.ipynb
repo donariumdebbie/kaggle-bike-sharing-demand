{
  "cells": [
    {
      "metadata": {
        "_uuid": "8f2839f25d086af736a60e9eeb907d3b93b6e0e5",
        "_cell_guid": "b1076dfc-b9ad-4769-8c92-a6c4dae69d19",
        "trusted": true
      },
      "cell_type": "code",
      "source": "# This Python 3 environment comes with many helpful analytics libraries installed\n# It is defined by the kaggle/python docker image: https://github.com/kaggle/docker-python\n# For example, here's several helpful packages to load in \n\nimport numpy as np # linear algebra\nimport pandas as pd # data processing, CSV file I/O (e.g. pd.read_csv)\n\n# Input data files are available in the \"../input/\" directory.\n# For example, running this (by clicking run or pressing Shift+Enter) will list the files in the input directory\n\nimport os\nprint(os.listdir(\"../input\"))\n\n# Any results you write to the current directory are saved as output.",
      "execution_count": 1,
      "outputs": [
        {
          "output_type": "stream",
          "text": "['lgbm-model', 'bike-sharing-demand', 'xgboost']\n",
          "name": "stdout"
        }
      ]
    },
    {
      "metadata": {
        "_uuid": "80686794c16098d502e1b76b3e22a352c4caa80a"
      },
      "cell_type": "markdown",
      "source": "# 데이터 불러오기"
    },
    {
      "metadata": {
        "_cell_guid": "79c7e3d0-c299-4dcb-8224-4455121ee9b0",
        "_uuid": "d629ff2d2480ee46fbb7e2d37f6b5fab8052498a",
        "trusted": true
      },
      "cell_type": "code",
      "source": "lgbm_data = pd.read_csv(\"../input/lgbm-model/lgbm_casual_registered.csv\")\nxgboost_data = pd.read_csv(\"../input/xgboost/script.csv\")",
      "execution_count": 2,
      "outputs": []
    },
    {
      "metadata": {
        "trusted": true,
        "_uuid": "9ab014bb347ace1bb8203d984520192a684442f4"
      },
      "cell_type": "code",
      "source": "lgbm_data.head()",
      "execution_count": 3,
      "outputs": [
        {
          "output_type": "execute_result",
          "execution_count": 3,
          "data": {
            "text/plain": "              datetime      count\n0  2011-01-20 00:00:00  12.214945\n1  2011-01-20 01:00:00   5.750223\n2  2011-01-20 02:00:00   3.205213\n3  2011-01-20 03:00:00   1.878348\n4  2011-01-20 04:00:00   1.595200",
            "text/html": "<div>\n<style scoped>\n    .dataframe tbody tr th:only-of-type {\n        vertical-align: middle;\n    }\n\n    .dataframe tbody tr th {\n        vertical-align: top;\n    }\n\n    .dataframe thead th {\n        text-align: right;\n    }\n</style>\n<table border=\"1\" class=\"dataframe\">\n  <thead>\n    <tr style=\"text-align: right;\">\n      <th></th>\n      <th>datetime</th>\n      <th>count</th>\n    </tr>\n  </thead>\n  <tbody>\n    <tr>\n      <th>0</th>\n      <td>2011-01-20 00:00:00</td>\n      <td>12.214945</td>\n    </tr>\n    <tr>\n      <th>1</th>\n      <td>2011-01-20 01:00:00</td>\n      <td>5.750223</td>\n    </tr>\n    <tr>\n      <th>2</th>\n      <td>2011-01-20 02:00:00</td>\n      <td>3.205213</td>\n    </tr>\n    <tr>\n      <th>3</th>\n      <td>2011-01-20 03:00:00</td>\n      <td>1.878348</td>\n    </tr>\n    <tr>\n      <th>4</th>\n      <td>2011-01-20 04:00:00</td>\n      <td>1.595200</td>\n    </tr>\n  </tbody>\n</table>\n</div>"
          },
          "metadata": {}
        }
      ]
    },
    {
      "metadata": {
        "trusted": true,
        "_uuid": "ca3b694ce998ba1d935a40a33c395784582743f4"
      },
      "cell_type": "code",
      "source": "xgboost_data.head()",
      "execution_count": 4,
      "outputs": [
        {
          "output_type": "execute_result",
          "execution_count": 4,
          "data": {
            "text/plain": "              datetime      count\n0  2011-01-20 00:00:00  14.327770\n1  2011-01-20 01:00:00   5.490347\n2  2011-01-20 02:00:00   3.234484\n3  2011-01-20 03:00:00   2.032536\n4  2011-01-20 04:00:00   1.853400",
            "text/html": "<div>\n<style scoped>\n    .dataframe tbody tr th:only-of-type {\n        vertical-align: middle;\n    }\n\n    .dataframe tbody tr th {\n        vertical-align: top;\n    }\n\n    .dataframe thead th {\n        text-align: right;\n    }\n</style>\n<table border=\"1\" class=\"dataframe\">\n  <thead>\n    <tr style=\"text-align: right;\">\n      <th></th>\n      <th>datetime</th>\n      <th>count</th>\n    </tr>\n  </thead>\n  <tbody>\n    <tr>\n      <th>0</th>\n      <td>2011-01-20 00:00:00</td>\n      <td>14.327770</td>\n    </tr>\n    <tr>\n      <th>1</th>\n      <td>2011-01-20 01:00:00</td>\n      <td>5.490347</td>\n    </tr>\n    <tr>\n      <th>2</th>\n      <td>2011-01-20 02:00:00</td>\n      <td>3.234484</td>\n    </tr>\n    <tr>\n      <th>3</th>\n      <td>2011-01-20 03:00:00</td>\n      <td>2.032536</td>\n    </tr>\n    <tr>\n      <th>4</th>\n      <td>2011-01-20 04:00:00</td>\n      <td>1.853400</td>\n    </tr>\n  </tbody>\n</table>\n</div>"
          },
          "metadata": {}
        }
      ]
    },
    {
      "metadata": {
        "trusted": true,
        "_uuid": "2a3ea7ee3681853a145331e2ad06eaaf4affc895"
      },
      "cell_type": "code",
      "source": "pred_df = lgbm_data.copy()",
      "execution_count": 5,
      "outputs": []
    },
    {
      "metadata": {
        "_uuid": "d76050522c753d500a3a2aea981473136a16210e"
      },
      "cell_type": "markdown",
      "source": "# 두 가지 모델 (lgbm, xgboost)을 사용한 prediction을 앙상블 블렌딩"
    },
    {
      "metadata": {
        "trusted": true,
        "_uuid": "9063ff6d4224473c9cfe9710311c26e4da24102f"
      },
      "cell_type": "code",
      "source": "pred_df[\"count\"] = lgbm_data[\"count\"]*0.48 + xgboost_data[\"count\"]*0.52",
      "execution_count": 8,
      "outputs": []
    },
    {
      "metadata": {
        "_uuid": "fb34ca34d46a0edd3c6c7ac347a3f81aec174c62"
      },
      "cell_type": "markdown",
      "source": "0.48 0.52값은 파라미터 튜닝으로 찾아낸것"
    },
    {
      "metadata": {
        "_uuid": "9008b5660d5f3747c0c3b15cd79cef56cb16880e"
      },
      "cell_type": "markdown",
      "source": "# 도메인지식 활용\n이 데이터의 문제점은, 우리가 학습하는 train data는 모든 월의 1~19일이고 20~31일까지의 데이터를 test로 쓴다는 것이다.\ntrain 데이터셋의 holiday와 test 데이터셋의 holiday날짜들은 조금 다른 성격을 띤다. \ntest data셋의 holiday는 크리스마스, 크리스마스이브, 추수감사절 등으로 자전거를 많이 타지 않는 공휴일이다. \n따라서 그 값들을 수동으로 보정해준다. "
    },
    {
      "metadata": {
        "trusted": true,
        "_uuid": "9e160246ceb0f94e1a457608c45f67d985bbd711"
      },
      "cell_type": "code",
      "source": "#크리스마스 이브\npred_df.iloc[6308:6330, 1]= pred_df.iloc[6308:6330, 1]*0.5\npred_df.iloc[3041:3063, 1]= pred_df.iloc[3041:3063, 1]*0.5\n#크리스마스\npred_df.iloc[6332:6354, 1]= pred_df.iloc[6332:6354, 1]*0.5\npred_df.iloc[3065:3087, 1]= pred_df.iloc[3065:3087, 1]*0.5\n#추수감사절\npred_df.iloc[6262:6284, 1]= pred_df.iloc[6262:6284, 1]*0.5\npred_df.iloc[2730:2752, 1]= pred_df.iloc[2730:2752, 1]*0.5",
      "execution_count": 11,
      "outputs": []
    },
    {
      "metadata": {
        "trusted": true,
        "_uuid": "c87e71cdfc3ea4ecffece20f20feb2b22d7194e3"
      },
      "cell_type": "code",
      "source": "pred_df.head()",
      "execution_count": 12,
      "outputs": [
        {
          "output_type": "execute_result",
          "execution_count": 12,
          "data": {
            "text/plain": "              datetime      count\n0  2011-01-20 00:00:00  13.313614\n1  2011-01-20 01:00:00   5.615088\n2  2011-01-20 02:00:00   3.220434\n3  2011-01-20 03:00:00   1.958526\n4  2011-01-20 04:00:00   1.729464",
            "text/html": "<div>\n<style scoped>\n    .dataframe tbody tr th:only-of-type {\n        vertical-align: middle;\n    }\n\n    .dataframe tbody tr th {\n        vertical-align: top;\n    }\n\n    .dataframe thead th {\n        text-align: right;\n    }\n</style>\n<table border=\"1\" class=\"dataframe\">\n  <thead>\n    <tr style=\"text-align: right;\">\n      <th></th>\n      <th>datetime</th>\n      <th>count</th>\n    </tr>\n  </thead>\n  <tbody>\n    <tr>\n      <th>0</th>\n      <td>2011-01-20 00:00:00</td>\n      <td>13.313614</td>\n    </tr>\n    <tr>\n      <th>1</th>\n      <td>2011-01-20 01:00:00</td>\n      <td>5.615088</td>\n    </tr>\n    <tr>\n      <th>2</th>\n      <td>2011-01-20 02:00:00</td>\n      <td>3.220434</td>\n    </tr>\n    <tr>\n      <th>3</th>\n      <td>2011-01-20 03:00:00</td>\n      <td>1.958526</td>\n    </tr>\n    <tr>\n      <th>4</th>\n      <td>2011-01-20 04:00:00</td>\n      <td>1.729464</td>\n    </tr>\n  </tbody>\n</table>\n</div>"
          },
          "metadata": {}
        }
      ]
    },
    {
      "metadata": {
        "trusted": true,
        "_uuid": "3048fa41359499c9da604cd9483e9f99709d69fb"
      },
      "cell_type": "code",
      "source": "# sub = pd.read_csv(\"../input/bike-sharing-demand/sampleSubmission.csv\") \n# sub = pred_df\n# sub.to_csv(\"lgbm_ensemble_domain.csv\", index=False)\n# sub.head()",
      "execution_count": 13,
      "outputs": []
    },
    {
      "metadata": {
        "_uuid": "58d49bb7ceeb528e9385c58258d6a88f26ff8dc0"
      },
      "cell_type": "markdown",
      "source": "# 제출!\n"
    },
    {
      "metadata": {
        "trusted": true,
        "_uuid": "3bb9b5fc74725186b52405138bd463b0d4d22068"
      },
      "cell_type": "code",
      "source": "pred_df.to_csv(\"final.csv\", index=False)",
      "execution_count": null,
      "outputs": []
    },
    {
      "metadata": {
        "trusted": true,
        "_uuid": "ce06dbe2053421b5ea5749dde85273ce6ef25d05"
      },
      "cell_type": "markdown",
      "source": "# 결과\npublic score 0.36023 \n\nrank 13\n"
    },
    {
      "metadata": {
        "trusted": true,
        "_uuid": "1815c85e26d9abe0a8e903831577fad641703532"
      },
      "cell_type": "code",
      "source": "",
      "execution_count": null,
      "outputs": []
    }
  ],
  "metadata": {
    "kernelspec": {
      "display_name": "Python 3",
      "language": "python",
      "name": "python3"
    },
    "language_info": {
      "name": "python",
      "version": "3.6.6",
      "mimetype": "text/x-python",
      "codemirror_mode": {
        "name": "ipython",
        "version": 3
      },
      "pygments_lexer": "ipython3",
      "nbconvert_exporter": "python",
      "file_extension": ".py"
    }
  },
  "nbformat": 4,
  "nbformat_minor": 1
}