{
  "cells": [
    {
      "metadata": {
        "_uuid": "8f2839f25d086af736a60e9eeb907d3b93b6e0e5",
        "_cell_guid": "b1076dfc-b9ad-4769-8c92-a6c4dae69d19",
        "trusted": true
      },
      "cell_type": "code",
      "source": "# This Python 3 environment comes with many helpful analytics libraries installed\n# It is defined by the kaggle/python docker image: https://github.com/kaggle/docker-python\n# For example, here's several helpful packages to load in \n\nimport numpy as np # linear algebra\nimport pandas as pd # data processing, CSV file I/O (e.g. pd.read_csv)\n\n# Input data files are available in the \"../input/\" directory.\n# For example, running this (by clicking run or pressing Shift+Enter) will list the files in the input directory\n\nimport os\nprint(os.listdir(\"../input\"))\n\n# Any results you write to the current directory are saved as output.",
      "execution_count": 2,
      "outputs": [
        {
          "output_type": "stream",
          "text": "['test.csv', 'sampleSubmission.csv', 'train.csv']\n",
          "name": "stdout"
        }
      ]
    },
    {
      "metadata": {
        "_cell_guid": "79c7e3d0-c299-4dcb-8224-4455121ee9b0",
        "collapsed": true,
        "_uuid": "d629ff2d2480ee46fbb7e2d37f6b5fab8052498a",
        "trusted": false
      },
      "cell_type": "markdown",
      "source": "# 1. Data EDA"
    },
    {
      "metadata": {
        "_uuid": "82e745901a848039ff5f07b651758ee413572c72"
      },
      "cell_type": "markdown",
      "source": "Data EDA와 Feature Engineering은 우선 저번 커널에서 했던 것과 거의 비슷하게 진행했다. "
    },
    {
      "metadata": {
        "trusted": true,
        "_uuid": "8180824bf5039126d66b0d644eefb85038cf2e98"
      },
      "cell_type": "code",
      "source": "train = pd.read_csv('../input/train.csv')\ntest = pd.read_csv('../input/test.csv')",
      "execution_count": 3,
      "outputs": []
    },
    {
      "metadata": {
        "trusted": true,
        "_uuid": "6b7ad40006f6cf84c500609daaab841512ff7b8d"
      },
      "cell_type": "code",
      "source": "train.head()",
      "execution_count": 4,
      "outputs": [
        {
          "output_type": "execute_result",
          "execution_count": 4,
          "data": {
            "text/plain": "              datetime  season  holiday  ...    casual  registered  count\n0  2011-01-01 00:00:00       1        0  ...         3          13     16\n1  2011-01-01 01:00:00       1        0  ...         8          32     40\n2  2011-01-01 02:00:00       1        0  ...         5          27     32\n3  2011-01-01 03:00:00       1        0  ...         3          10     13\n4  2011-01-01 04:00:00       1        0  ...         0           1      1\n\n[5 rows x 12 columns]",
            "text/html": "<div>\n<style scoped>\n    .dataframe tbody tr th:only-of-type {\n        vertical-align: middle;\n    }\n\n    .dataframe tbody tr th {\n        vertical-align: top;\n    }\n\n    .dataframe thead th {\n        text-align: right;\n    }\n</style>\n<table border=\"1\" class=\"dataframe\">\n  <thead>\n    <tr style=\"text-align: right;\">\n      <th></th>\n      <th>datetime</th>\n      <th>season</th>\n      <th>holiday</th>\n      <th>workingday</th>\n      <th>weather</th>\n      <th>temp</th>\n      <th>atemp</th>\n      <th>humidity</th>\n      <th>windspeed</th>\n      <th>casual</th>\n      <th>registered</th>\n      <th>count</th>\n    </tr>\n  </thead>\n  <tbody>\n    <tr>\n      <th>0</th>\n      <td>2011-01-01 00:00:00</td>\n      <td>1</td>\n      <td>0</td>\n      <td>0</td>\n      <td>1</td>\n      <td>9.84</td>\n      <td>14.395</td>\n      <td>81</td>\n      <td>0.0</td>\n      <td>3</td>\n      <td>13</td>\n      <td>16</td>\n    </tr>\n    <tr>\n      <th>1</th>\n      <td>2011-01-01 01:00:00</td>\n      <td>1</td>\n      <td>0</td>\n      <td>0</td>\n      <td>1</td>\n      <td>9.02</td>\n      <td>13.635</td>\n      <td>80</td>\n      <td>0.0</td>\n      <td>8</td>\n      <td>32</td>\n      <td>40</td>\n    </tr>\n    <tr>\n      <th>2</th>\n      <td>2011-01-01 02:00:00</td>\n      <td>1</td>\n      <td>0</td>\n      <td>0</td>\n      <td>1</td>\n      <td>9.02</td>\n      <td>13.635</td>\n      <td>80</td>\n      <td>0.0</td>\n      <td>5</td>\n      <td>27</td>\n      <td>32</td>\n    </tr>\n    <tr>\n      <th>3</th>\n      <td>2011-01-01 03:00:00</td>\n      <td>1</td>\n      <td>0</td>\n      <td>0</td>\n      <td>1</td>\n      <td>9.84</td>\n      <td>14.395</td>\n      <td>75</td>\n      <td>0.0</td>\n      <td>3</td>\n      <td>10</td>\n      <td>13</td>\n    </tr>\n    <tr>\n      <th>4</th>\n      <td>2011-01-01 04:00:00</td>\n      <td>1</td>\n      <td>0</td>\n      <td>0</td>\n      <td>1</td>\n      <td>9.84</td>\n      <td>14.395</td>\n      <td>75</td>\n      <td>0.0</td>\n      <td>0</td>\n      <td>1</td>\n      <td>1</td>\n    </tr>\n  </tbody>\n</table>\n</div>"
          },
          "metadata": {}
        }
      ]
    },
    {
      "metadata": {
        "trusted": true,
        "_uuid": "6049d081b26cb9ef0dd887550ba30a0feec9d27c"
      },
      "cell_type": "code",
      "source": "test.head()",
      "execution_count": 5,
      "outputs": [
        {
          "output_type": "execute_result",
          "execution_count": 5,
          "data": {
            "text/plain": "              datetime  season  holiday    ...       atemp  humidity  windspeed\n0  2011-01-20 00:00:00       1        0    ...      11.365        56    26.0027\n1  2011-01-20 01:00:00       1        0    ...      13.635        56     0.0000\n2  2011-01-20 02:00:00       1        0    ...      13.635        56     0.0000\n3  2011-01-20 03:00:00       1        0    ...      12.880        56    11.0014\n4  2011-01-20 04:00:00       1        0    ...      12.880        56    11.0014\n\n[5 rows x 9 columns]",
            "text/html": "<div>\n<style scoped>\n    .dataframe tbody tr th:only-of-type {\n        vertical-align: middle;\n    }\n\n    .dataframe tbody tr th {\n        vertical-align: top;\n    }\n\n    .dataframe thead th {\n        text-align: right;\n    }\n</style>\n<table border=\"1\" class=\"dataframe\">\n  <thead>\n    <tr style=\"text-align: right;\">\n      <th></th>\n      <th>datetime</th>\n      <th>season</th>\n      <th>holiday</th>\n      <th>workingday</th>\n      <th>weather</th>\n      <th>temp</th>\n      <th>atemp</th>\n      <th>humidity</th>\n      <th>windspeed</th>\n    </tr>\n  </thead>\n  <tbody>\n    <tr>\n      <th>0</th>\n      <td>2011-01-20 00:00:00</td>\n      <td>1</td>\n      <td>0</td>\n      <td>1</td>\n      <td>1</td>\n      <td>10.66</td>\n      <td>11.365</td>\n      <td>56</td>\n      <td>26.0027</td>\n    </tr>\n    <tr>\n      <th>1</th>\n      <td>2011-01-20 01:00:00</td>\n      <td>1</td>\n      <td>0</td>\n      <td>1</td>\n      <td>1</td>\n      <td>10.66</td>\n      <td>13.635</td>\n      <td>56</td>\n      <td>0.0000</td>\n    </tr>\n    <tr>\n      <th>2</th>\n      <td>2011-01-20 02:00:00</td>\n      <td>1</td>\n      <td>0</td>\n      <td>1</td>\n      <td>1</td>\n      <td>10.66</td>\n      <td>13.635</td>\n      <td>56</td>\n      <td>0.0000</td>\n    </tr>\n    <tr>\n      <th>3</th>\n      <td>2011-01-20 03:00:00</td>\n      <td>1</td>\n      <td>0</td>\n      <td>1</td>\n      <td>1</td>\n      <td>10.66</td>\n      <td>12.880</td>\n      <td>56</td>\n      <td>11.0014</td>\n    </tr>\n    <tr>\n      <th>4</th>\n      <td>2011-01-20 04:00:00</td>\n      <td>1</td>\n      <td>0</td>\n      <td>1</td>\n      <td>1</td>\n      <td>10.66</td>\n      <td>12.880</td>\n      <td>56</td>\n      <td>11.0014</td>\n    </tr>\n  </tbody>\n</table>\n</div>"
          },
          "metadata": {}
        }
      ]
    },
    {
      "metadata": {
        "trusted": true,
        "_uuid": "ab299634a55df02f2eda9d7f7fa6542181fd58d3"
      },
      "cell_type": "code",
      "source": "train = pd.read_csv(\"../input/train.csv\", parse_dates = [\"datetime\"])\ntest = pd.read_csv(\"../input/test.csv\", parse_dates = [\"datetime\"])",
      "execution_count": 6,
      "outputs": []
    },
    {
      "metadata": {
        "trusted": true,
        "_uuid": "add7521b7577ff81d23231665394731b513e33ee"
      },
      "cell_type": "code",
      "source": "train[\"year\"] = train[\"datetime\"].dt.year\ntrain[\"hour\"] = train[\"datetime\"].dt.hour\ntrain[\"dayofweek\"] = train[\"datetime\"].dt.dayofweek\n\ntest[\"year\"] = test[\"datetime\"].dt.year\ntest[\"hour\"] = test[\"datetime\"].dt.hour\ntest[\"dayofweek\"] = test[\"datetime\"].dt.dayofweek",
      "execution_count": 7,
      "outputs": []
    },
    {
      "metadata": {
        "trusted": true,
        "_uuid": "8b86a60c997d232223419dbaac7d16462c34dbec"
      },
      "cell_type": "code",
      "source": "train.head()",
      "execution_count": 12,
      "outputs": [
        {
          "output_type": "execute_result",
          "execution_count": 12,
          "data": {
            "text/plain": "             datetime  season  holiday    ...      year  hour  dayofweek\n0 2011-01-01 00:00:00       1        0    ...      2011     0          5\n1 2011-01-01 01:00:00       1        0    ...      2011     1          5\n2 2011-01-01 02:00:00       1        0    ...      2011     2          5\n3 2011-01-01 03:00:00       1        0    ...      2011     3          5\n4 2011-01-01 04:00:00       1        0    ...      2011     4          5\n\n[5 rows x 15 columns]",
            "text/html": "<div>\n<style scoped>\n    .dataframe tbody tr th:only-of-type {\n        vertical-align: middle;\n    }\n\n    .dataframe tbody tr th {\n        vertical-align: top;\n    }\n\n    .dataframe thead th {\n        text-align: right;\n    }\n</style>\n<table border=\"1\" class=\"dataframe\">\n  <thead>\n    <tr style=\"text-align: right;\">\n      <th></th>\n      <th>datetime</th>\n      <th>season</th>\n      <th>holiday</th>\n      <th>workingday</th>\n      <th>weather</th>\n      <th>temp</th>\n      <th>atemp</th>\n      <th>humidity</th>\n      <th>windspeed</th>\n      <th>casual</th>\n      <th>registered</th>\n      <th>count</th>\n      <th>year</th>\n      <th>hour</th>\n      <th>dayofweek</th>\n    </tr>\n  </thead>\n  <tbody>\n    <tr>\n      <th>0</th>\n      <td>2011-01-01 00:00:00</td>\n      <td>1</td>\n      <td>0</td>\n      <td>0</td>\n      <td>1</td>\n      <td>9.84</td>\n      <td>14.395</td>\n      <td>81</td>\n      <td>0.0</td>\n      <td>3</td>\n      <td>13</td>\n      <td>16</td>\n      <td>2011</td>\n      <td>0</td>\n      <td>5</td>\n    </tr>\n    <tr>\n      <th>1</th>\n      <td>2011-01-01 01:00:00</td>\n      <td>1</td>\n      <td>0</td>\n      <td>0</td>\n      <td>1</td>\n      <td>9.02</td>\n      <td>13.635</td>\n      <td>80</td>\n      <td>0.0</td>\n      <td>8</td>\n      <td>32</td>\n      <td>40</td>\n      <td>2011</td>\n      <td>1</td>\n      <td>5</td>\n    </tr>\n    <tr>\n      <th>2</th>\n      <td>2011-01-01 02:00:00</td>\n      <td>1</td>\n      <td>0</td>\n      <td>0</td>\n      <td>1</td>\n      <td>9.02</td>\n      <td>13.635</td>\n      <td>80</td>\n      <td>0.0</td>\n      <td>5</td>\n      <td>27</td>\n      <td>32</td>\n      <td>2011</td>\n      <td>2</td>\n      <td>5</td>\n    </tr>\n    <tr>\n      <th>3</th>\n      <td>2011-01-01 03:00:00</td>\n      <td>1</td>\n      <td>0</td>\n      <td>0</td>\n      <td>1</td>\n      <td>9.84</td>\n      <td>14.395</td>\n      <td>75</td>\n      <td>0.0</td>\n      <td>3</td>\n      <td>10</td>\n      <td>13</td>\n      <td>2011</td>\n      <td>3</td>\n      <td>5</td>\n    </tr>\n    <tr>\n      <th>4</th>\n      <td>2011-01-01 04:00:00</td>\n      <td>1</td>\n      <td>0</td>\n      <td>0</td>\n      <td>1</td>\n      <td>9.84</td>\n      <td>14.395</td>\n      <td>75</td>\n      <td>0.0</td>\n      <td>0</td>\n      <td>1</td>\n      <td>1</td>\n      <td>2011</td>\n      <td>4</td>\n      <td>5</td>\n    </tr>\n  </tbody>\n</table>\n</div>"
          },
          "metadata": {}
        }
      ]
    },
    {
      "metadata": {
        "trusted": true,
        "_uuid": "b015921de6f5b85222535d6ad46359f3cab95223"
      },
      "cell_type": "code",
      "source": "train.info()",
      "execution_count": 13,
      "outputs": [
        {
          "output_type": "stream",
          "text": "<class 'pandas.core.frame.DataFrame'>\nRangeIndex: 10886 entries, 0 to 10885\nData columns (total 15 columns):\ndatetime      10886 non-null datetime64[ns]\nseason        10886 non-null int64\nholiday       10886 non-null int64\nworkingday    10886 non-null int64\nweather       10886 non-null int64\ntemp          10886 non-null float64\natemp         10886 non-null float64\nhumidity      10886 non-null int64\nwindspeed     10886 non-null float64\ncasual        10886 non-null int64\nregistered    10886 non-null int64\ncount         10886 non-null int64\nyear          10886 non-null int64\nhour          10886 non-null int64\ndayofweek     10886 non-null int64\ndtypes: datetime64[ns](1), float64(3), int64(11)\nmemory usage: 1.2 MB\n",
          "name": "stdout"
        }
      ]
    },
    {
      "metadata": {
        "_uuid": "9b77be7ea8a5c570722bfd6af7a4318339cc0095"
      },
      "cell_type": "markdown",
      "source": "여기부터 저번과 조금 다르게 해보려고 한다. count는 대여량 총량이지만 casual은 일반 사용자들, registered는 자전거를 등록하고 사용하는 사용자들이라고 생각되므로 두개를 예측을 따로 해서 count를 더해봐야겠다."
    },
    {
      "metadata": {
        "trusted": true,
        "_uuid": "119bf5652ed53388e78aa71f69cb74b222bd7a3c"
      },
      "cell_type": "code",
      "source": "y_train_cas = train[\"casual\"]",
      "execution_count": 14,
      "outputs": []
    },
    {
      "metadata": {
        "trusted": true,
        "_uuid": "f7aa6140fefe3311ecb51e9a6410980322d0bfc0"
      },
      "cell_type": "code",
      "source": "y_train_cas.head()",
      "execution_count": 15,
      "outputs": [
        {
          "output_type": "execute_result",
          "execution_count": 15,
          "data": {
            "text/plain": "0    3\n1    8\n2    5\n3    3\n4    0\nName: casual, dtype: int64"
          },
          "metadata": {}
        }
      ]
    },
    {
      "metadata": {
        "trusted": true,
        "_uuid": "ca3cc22ebe014338c42f78e3fbd3f78c52510dc4"
      },
      "cell_type": "code",
      "source": "y_train_reg = train[\"registered\"]",
      "execution_count": 16,
      "outputs": []
    },
    {
      "metadata": {
        "trusted": true,
        "_uuid": "d001dbb0ebba2f1006632efbc0b8cd4fd9e408ba"
      },
      "cell_type": "code",
      "source": "y_train_reg.head()",
      "execution_count": 18,
      "outputs": [
        {
          "output_type": "execute_result",
          "execution_count": 18,
          "data": {
            "text/plain": "0    13\n1    32\n2    27\n3    10\n4     1\nName: registered, dtype: int64"
          },
          "metadata": {}
        }
      ]
    },
    {
      "metadata": {
        "_uuid": "67dc0e211b9adcf72afca79ffc0c74d211f31d8c"
      },
      "cell_type": "markdown",
      "source": "두 y를 저번처럼 로그화를 해주자."
    },
    {
      "metadata": {
        "trusted": true,
        "_uuid": "981e97868c1e4961530879121c689383c546e799"
      },
      "cell_type": "code",
      "source": "y_train_cas = np.log1p(y_train_cas)",
      "execution_count": 19,
      "outputs": []
    },
    {
      "metadata": {
        "trusted": true,
        "_uuid": "d7d4137327c4b50eba91165b9b63775bb9658b1c"
      },
      "cell_type": "code",
      "source": "y_train_reg = np.log1p(y_train_reg)",
      "execution_count": 20,
      "outputs": []
    },
    {
      "metadata": {
        "trusted": true,
        "_uuid": "da17e2a47dfddda5477f37051ec1809fdb91a920"
      },
      "cell_type": "code",
      "source": "train.head()",
      "execution_count": 21,
      "outputs": [
        {
          "output_type": "execute_result",
          "execution_count": 21,
          "data": {
            "text/plain": "             datetime  season  holiday    ...      year  hour  dayofweek\n0 2011-01-01 00:00:00       1        0    ...      2011     0          5\n1 2011-01-01 01:00:00       1        0    ...      2011     1          5\n2 2011-01-01 02:00:00       1        0    ...      2011     2          5\n3 2011-01-01 03:00:00       1        0    ...      2011     3          5\n4 2011-01-01 04:00:00       1        0    ...      2011     4          5\n\n[5 rows x 15 columns]",
            "text/html": "<div>\n<style scoped>\n    .dataframe tbody tr th:only-of-type {\n        vertical-align: middle;\n    }\n\n    .dataframe tbody tr th {\n        vertical-align: top;\n    }\n\n    .dataframe thead th {\n        text-align: right;\n    }\n</style>\n<table border=\"1\" class=\"dataframe\">\n  <thead>\n    <tr style=\"text-align: right;\">\n      <th></th>\n      <th>datetime</th>\n      <th>season</th>\n      <th>holiday</th>\n      <th>workingday</th>\n      <th>weather</th>\n      <th>temp</th>\n      <th>atemp</th>\n      <th>humidity</th>\n      <th>windspeed</th>\n      <th>casual</th>\n      <th>registered</th>\n      <th>count</th>\n      <th>year</th>\n      <th>hour</th>\n      <th>dayofweek</th>\n    </tr>\n  </thead>\n  <tbody>\n    <tr>\n      <th>0</th>\n      <td>2011-01-01 00:00:00</td>\n      <td>1</td>\n      <td>0</td>\n      <td>0</td>\n      <td>1</td>\n      <td>9.84</td>\n      <td>14.395</td>\n      <td>81</td>\n      <td>0.0</td>\n      <td>3</td>\n      <td>13</td>\n      <td>16</td>\n      <td>2011</td>\n      <td>0</td>\n      <td>5</td>\n    </tr>\n    <tr>\n      <th>1</th>\n      <td>2011-01-01 01:00:00</td>\n      <td>1</td>\n      <td>0</td>\n      <td>0</td>\n      <td>1</td>\n      <td>9.02</td>\n      <td>13.635</td>\n      <td>80</td>\n      <td>0.0</td>\n      <td>8</td>\n      <td>32</td>\n      <td>40</td>\n      <td>2011</td>\n      <td>1</td>\n      <td>5</td>\n    </tr>\n    <tr>\n      <th>2</th>\n      <td>2011-01-01 02:00:00</td>\n      <td>1</td>\n      <td>0</td>\n      <td>0</td>\n      <td>1</td>\n      <td>9.02</td>\n      <td>13.635</td>\n      <td>80</td>\n      <td>0.0</td>\n      <td>5</td>\n      <td>27</td>\n      <td>32</td>\n      <td>2011</td>\n      <td>2</td>\n      <td>5</td>\n    </tr>\n    <tr>\n      <th>3</th>\n      <td>2011-01-01 03:00:00</td>\n      <td>1</td>\n      <td>0</td>\n      <td>0</td>\n      <td>1</td>\n      <td>9.84</td>\n      <td>14.395</td>\n      <td>75</td>\n      <td>0.0</td>\n      <td>3</td>\n      <td>10</td>\n      <td>13</td>\n      <td>2011</td>\n      <td>3</td>\n      <td>5</td>\n    </tr>\n    <tr>\n      <th>4</th>\n      <td>2011-01-01 04:00:00</td>\n      <td>1</td>\n      <td>0</td>\n      <td>0</td>\n      <td>1</td>\n      <td>9.84</td>\n      <td>14.395</td>\n      <td>75</td>\n      <td>0.0</td>\n      <td>0</td>\n      <td>1</td>\n      <td>1</td>\n      <td>2011</td>\n      <td>4</td>\n      <td>5</td>\n    </tr>\n  </tbody>\n</table>\n</div>"
          },
          "metadata": {}
        }
      ]
    },
    {
      "metadata": {
        "_uuid": "a54557490e9ab84d4069a211c3610d1303c867b8"
      },
      "cell_type": "markdown",
      "source": "이제 학습시킬 x에서 필요없는 컬럼을 저번처럼 드랍해주자."
    },
    {
      "metadata": {
        "trusted": true,
        "_uuid": "99b489f12cbc8ce221a7a5e5ca9ca704090c6844"
      },
      "cell_type": "code",
      "source": "train.drop([\"datetime\", \"windspeed\",  \"casual\", \"registered\", \"count\"], 1, inplace=True)",
      "execution_count": 22,
      "outputs": []
    },
    {
      "metadata": {
        "trusted": true,
        "_uuid": "20179412b549d8d099838276e225fa1cc13042b0"
      },
      "cell_type": "code",
      "source": "train.head()",
      "execution_count": 23,
      "outputs": [
        {
          "output_type": "execute_result",
          "execution_count": 23,
          "data": {
            "text/plain": "   season  holiday  workingday    ...      year  hour  dayofweek\n0       1        0           0    ...      2011     0          5\n1       1        0           0    ...      2011     1          5\n2       1        0           0    ...      2011     2          5\n3       1        0           0    ...      2011     3          5\n4       1        0           0    ...      2011     4          5\n\n[5 rows x 10 columns]",
            "text/html": "<div>\n<style scoped>\n    .dataframe tbody tr th:only-of-type {\n        vertical-align: middle;\n    }\n\n    .dataframe tbody tr th {\n        vertical-align: top;\n    }\n\n    .dataframe thead th {\n        text-align: right;\n    }\n</style>\n<table border=\"1\" class=\"dataframe\">\n  <thead>\n    <tr style=\"text-align: right;\">\n      <th></th>\n      <th>season</th>\n      <th>holiday</th>\n      <th>workingday</th>\n      <th>weather</th>\n      <th>temp</th>\n      <th>atemp</th>\n      <th>humidity</th>\n      <th>year</th>\n      <th>hour</th>\n      <th>dayofweek</th>\n    </tr>\n  </thead>\n  <tbody>\n    <tr>\n      <th>0</th>\n      <td>1</td>\n      <td>0</td>\n      <td>0</td>\n      <td>1</td>\n      <td>9.84</td>\n      <td>14.395</td>\n      <td>81</td>\n      <td>2011</td>\n      <td>0</td>\n      <td>5</td>\n    </tr>\n    <tr>\n      <th>1</th>\n      <td>1</td>\n      <td>0</td>\n      <td>0</td>\n      <td>1</td>\n      <td>9.02</td>\n      <td>13.635</td>\n      <td>80</td>\n      <td>2011</td>\n      <td>1</td>\n      <td>5</td>\n    </tr>\n    <tr>\n      <th>2</th>\n      <td>1</td>\n      <td>0</td>\n      <td>0</td>\n      <td>1</td>\n      <td>9.02</td>\n      <td>13.635</td>\n      <td>80</td>\n      <td>2011</td>\n      <td>2</td>\n      <td>5</td>\n    </tr>\n    <tr>\n      <th>3</th>\n      <td>1</td>\n      <td>0</td>\n      <td>0</td>\n      <td>1</td>\n      <td>9.84</td>\n      <td>14.395</td>\n      <td>75</td>\n      <td>2011</td>\n      <td>3</td>\n      <td>5</td>\n    </tr>\n    <tr>\n      <th>4</th>\n      <td>1</td>\n      <td>0</td>\n      <td>0</td>\n      <td>1</td>\n      <td>9.84</td>\n      <td>14.395</td>\n      <td>75</td>\n      <td>2011</td>\n      <td>4</td>\n      <td>5</td>\n    </tr>\n  </tbody>\n</table>\n</div>"
          },
          "metadata": {}
        }
      ]
    },
    {
      "metadata": {
        "_uuid": "d76a6fbb5246862f849c960506a268b42ef34d61"
      },
      "cell_type": "markdown",
      "source": "test도 마찬가지로 지워준다."
    },
    {
      "metadata": {
        "trusted": true,
        "_uuid": "27ef2aef3b4573e47a81e15d4642d2d387381fa8"
      },
      "cell_type": "code",
      "source": "test.drop([\"datetime\", \"windspeed\"], 1, inplace=True)\ntest.head()",
      "execution_count": 24,
      "outputs": [
        {
          "output_type": "execute_result",
          "execution_count": 24,
          "data": {
            "text/plain": "   season  holiday  workingday    ...      year  hour  dayofweek\n0       1        0           1    ...      2011     0          3\n1       1        0           1    ...      2011     1          3\n2       1        0           1    ...      2011     2          3\n3       1        0           1    ...      2011     3          3\n4       1        0           1    ...      2011     4          3\n\n[5 rows x 10 columns]",
            "text/html": "<div>\n<style scoped>\n    .dataframe tbody tr th:only-of-type {\n        vertical-align: middle;\n    }\n\n    .dataframe tbody tr th {\n        vertical-align: top;\n    }\n\n    .dataframe thead th {\n        text-align: right;\n    }\n</style>\n<table border=\"1\" class=\"dataframe\">\n  <thead>\n    <tr style=\"text-align: right;\">\n      <th></th>\n      <th>season</th>\n      <th>holiday</th>\n      <th>workingday</th>\n      <th>weather</th>\n      <th>temp</th>\n      <th>atemp</th>\n      <th>humidity</th>\n      <th>year</th>\n      <th>hour</th>\n      <th>dayofweek</th>\n    </tr>\n  </thead>\n  <tbody>\n    <tr>\n      <th>0</th>\n      <td>1</td>\n      <td>0</td>\n      <td>1</td>\n      <td>1</td>\n      <td>10.66</td>\n      <td>11.365</td>\n      <td>56</td>\n      <td>2011</td>\n      <td>0</td>\n      <td>3</td>\n    </tr>\n    <tr>\n      <th>1</th>\n      <td>1</td>\n      <td>0</td>\n      <td>1</td>\n      <td>1</td>\n      <td>10.66</td>\n      <td>13.635</td>\n      <td>56</td>\n      <td>2011</td>\n      <td>1</td>\n      <td>3</td>\n    </tr>\n    <tr>\n      <th>2</th>\n      <td>1</td>\n      <td>0</td>\n      <td>1</td>\n      <td>1</td>\n      <td>10.66</td>\n      <td>13.635</td>\n      <td>56</td>\n      <td>2011</td>\n      <td>2</td>\n      <td>3</td>\n    </tr>\n    <tr>\n      <th>3</th>\n      <td>1</td>\n      <td>0</td>\n      <td>1</td>\n      <td>1</td>\n      <td>10.66</td>\n      <td>12.880</td>\n      <td>56</td>\n      <td>2011</td>\n      <td>3</td>\n      <td>3</td>\n    </tr>\n    <tr>\n      <th>4</th>\n      <td>1</td>\n      <td>0</td>\n      <td>1</td>\n      <td>1</td>\n      <td>10.66</td>\n      <td>12.880</td>\n      <td>56</td>\n      <td>2011</td>\n      <td>4</td>\n      <td>3</td>\n    </tr>\n  </tbody>\n</table>\n</div>"
          },
          "metadata": {}
        }
      ]
    },
    {
      "metadata": {
        "_uuid": "51dbc31cc667d9af5b4c140b2cefd77dd733594c"
      },
      "cell_type": "markdown",
      "source": "# 2. 모델링"
    },
    {
      "metadata": {
        "trusted": true,
        "_uuid": "bb3046cf5139db946a5f938c41f9d0a9e16e459a"
      },
      "cell_type": "code",
      "source": "from sklearn.ensemble import RandomForestRegressor",
      "execution_count": 25,
      "outputs": []
    },
    {
      "metadata": {
        "_uuid": "c1d998e1899877638aa31ec01e627985785f9b0d"
      },
      "cell_type": "markdown",
      "source": "우선 casual 컬럼에 대한 예측값을 먼저 모델을 학습하고 fit해보자."
    },
    {
      "metadata": {
        "trusted": true,
        "_uuid": "c6971867e4f1b21df812dad25b32563a82642a1c"
      },
      "cell_type": "code",
      "source": "rf_cas = RandomForestRegressor(n_estimators=100)",
      "execution_count": 27,
      "outputs": []
    },
    {
      "metadata": {
        "trusted": true,
        "_uuid": "a9d0d0424f754b40149a6825b6bf5412123426ac"
      },
      "cell_type": "code",
      "source": "rf_cas.fit(train,y_train_cas)",
      "execution_count": 28,
      "outputs": [
        {
          "output_type": "execute_result",
          "execution_count": 28,
          "data": {
            "text/plain": "RandomForestRegressor(bootstrap=True, criterion='mse', max_depth=None,\n           max_features='auto', max_leaf_nodes=None,\n           min_impurity_decrease=0.0, min_impurity_split=None,\n           min_samples_leaf=1, min_samples_split=2,\n           min_weight_fraction_leaf=0.0, n_estimators=100, n_jobs=None,\n           oob_score=False, random_state=None, verbose=0, warm_start=False)"
          },
          "metadata": {}
        }
      ]
    },
    {
      "metadata": {
        "trusted": true,
        "_uuid": "538043c34454311c703a4a311f74256ddc12a4d1"
      },
      "cell_type": "code",
      "source": "preds_cas = rf_cas.predict(test)",
      "execution_count": 31,
      "outputs": []
    },
    {
      "metadata": {
        "_uuid": "273cda9cfa6fa207bf796a95dd032f7981240484"
      },
      "cell_type": "markdown",
      "source": "registered에 대한 예측값도 모델을 학습하고 fit 해본다."
    },
    {
      "metadata": {
        "trusted": true,
        "_uuid": "c2a436a2d27cd5359a43efb94e1caacc33d29314"
      },
      "cell_type": "code",
      "source": "rf_reg = RandomForestRegressor(n_estimators=100)",
      "execution_count": 32,
      "outputs": []
    },
    {
      "metadata": {
        "trusted": true,
        "_uuid": "3f999847ea294de8b72031befbe278d917bfdde8"
      },
      "cell_type": "code",
      "source": "rf_reg.fit(train,y_train_reg)",
      "execution_count": 33,
      "outputs": [
        {
          "output_type": "execute_result",
          "execution_count": 33,
          "data": {
            "text/plain": "RandomForestRegressor(bootstrap=True, criterion='mse', max_depth=None,\n           max_features='auto', max_leaf_nodes=None,\n           min_impurity_decrease=0.0, min_impurity_split=None,\n           min_samples_leaf=1, min_samples_split=2,\n           min_weight_fraction_leaf=0.0, n_estimators=100, n_jobs=None,\n           oob_score=False, random_state=None, verbose=0, warm_start=False)"
          },
          "metadata": {}
        }
      ]
    },
    {
      "metadata": {
        "trusted": true,
        "_uuid": "d43ead807dd3d0d4f144b1833a6f32e73ef69f03"
      },
      "cell_type": "code",
      "source": "preds_reg = rf_reg.predict(test)",
      "execution_count": 34,
      "outputs": []
    },
    {
      "metadata": {
        "_uuid": "8f4da4a0c9ee51be9a76f6d275a6de0749b86639"
      },
      "cell_type": "markdown",
      "source": "예측값이 어떻게 나왔는지 살펴본다."
    },
    {
      "metadata": {
        "trusted": true,
        "_uuid": "100fecb2297a6a5321cd1d44aa8210c7cd4a8ec3"
      },
      "cell_type": "code",
      "source": "preds_cas",
      "execution_count": 36,
      "outputs": [
        {
          "output_type": "execute_result",
          "execution_count": 36,
          "data": {
            "text/plain": "array([0.80006548, 0.32109042, 0.69903633, ..., 1.39493618, 1.27124745,\n       0.99696539])"
          },
          "metadata": {}
        }
      ]
    },
    {
      "metadata": {
        "trusted": true,
        "_uuid": "761bfa9ceaeebd1be43c068396ce61136e302778"
      },
      "cell_type": "code",
      "source": "preds_reg",
      "execution_count": 37,
      "outputs": [
        {
          "output_type": "execute_result",
          "execution_count": 37,
          "data": {
            "text/plain": "array([2.45930949, 1.68846071, 0.99657175, ..., 4.60535645, 4.53882746,\n       3.7749546 ])"
          },
          "metadata": {}
        }
      ]
    },
    {
      "metadata": {
        "_uuid": "f010f295a0886c7bda83d6c54e44c3a14d818fb4"
      },
      "cell_type": "markdown",
      "source": "로그화를 먼저 돌려준다."
    },
    {
      "metadata": {
        "trusted": true,
        "_uuid": "1f71fb832b201b6b936a48baefdb782f29d86cd1"
      },
      "cell_type": "code",
      "source": "preds_cas = np.expm1(preds_cas)",
      "execution_count": 38,
      "outputs": []
    },
    {
      "metadata": {
        "trusted": true,
        "_uuid": "7a203ea4cd596a26df5003d3ec39c659274c1bb5"
      },
      "cell_type": "code",
      "source": "preds_reg = np.expm1(preds_reg)",
      "execution_count": 39,
      "outputs": []
    },
    {
      "metadata": {
        "trusted": true,
        "_uuid": "e4d79680ba087763e4e25943eb82b46a07b740ad"
      },
      "cell_type": "code",
      "source": "preds_cas",
      "execution_count": 40,
      "outputs": [
        {
          "output_type": "execute_result",
          "execution_count": 40,
          "data": {
            "text/plain": "array([1.22568666, 0.37863024, 1.01181305, ..., 3.03471708, 2.56529732,\n       1.71004542])"
          },
          "metadata": {}
        }
      ]
    },
    {
      "metadata": {
        "trusted": true,
        "_uuid": "4937323c6adf50305dfed1f8108810eda4000a12"
      },
      "cell_type": "code",
      "source": "preds_reg",
      "execution_count": 41,
      "outputs": [
        {
          "output_type": "execute_result",
          "execution_count": 41,
          "data": {
            "text/plain": "array([10.69673199,  4.41114495,  1.70897883, ..., 99.01862835,\n       92.58100815, 42.59552897])"
          },
          "metadata": {}
        }
      ]
    },
    {
      "metadata": {
        "_uuid": "624fbbb7fcf502debc04e75e3457a8db99148a07"
      },
      "cell_type": "markdown",
      "source": "두 예측값을 합쳐주자."
    },
    {
      "metadata": {
        "trusted": true,
        "_uuid": "7678d004ed1c78832961c862f4e210c2f75852ce"
      },
      "cell_type": "code",
      "source": "preds = preds_cas + preds_reg",
      "execution_count": 42,
      "outputs": []
    },
    {
      "metadata": {
        "trusted": true,
        "_uuid": "8f84686ebe82a66956c1d55d1137223fe86f5760"
      },
      "cell_type": "code",
      "source": "preds",
      "execution_count": 43,
      "outputs": [
        {
          "output_type": "execute_result",
          "execution_count": 43,
          "data": {
            "text/plain": "array([ 11.92241865,   4.78977518,   2.72079189, ..., 102.05334543,\n        95.14630547,  44.30557439])"
          },
          "metadata": {}
        }
      ]
    },
    {
      "metadata": {
        "_uuid": "923afe8b3e06cc97d24016e72bdecc737915eedf"
      },
      "cell_type": "markdown",
      "source": "제출할 파일을 만든다."
    },
    {
      "metadata": {
        "trusted": true,
        "_uuid": "96bde000fcc03e19f3d9bf595ca09ba17e90b611"
      },
      "cell_type": "code",
      "source": "submission=pd.read_csv(\"../input/sampleSubmission.csv\")",
      "execution_count": 44,
      "outputs": []
    },
    {
      "metadata": {
        "trusted": true,
        "_uuid": "d3d2ebeafbb472966a97528140aadf3aac3c72d5"
      },
      "cell_type": "code",
      "source": "submission[\"count\"] = preds ",
      "execution_count": 45,
      "outputs": []
    },
    {
      "metadata": {
        "trusted": true,
        "_uuid": "63434b00e1c9ff4f7561be552f8c99e96bc26a03"
      },
      "cell_type": "code",
      "source": "submission.head()",
      "execution_count": 46,
      "outputs": [
        {
          "output_type": "execute_result",
          "execution_count": 46,
          "data": {
            "text/plain": "              datetime      count\n0  2011-01-20 00:00:00  11.922419\n1  2011-01-20 01:00:00   4.789775\n2  2011-01-20 02:00:00   2.720792\n3  2011-01-20 03:00:00   2.310768\n4  2011-01-20 04:00:00   1.970750",
            "text/html": "<div>\n<style scoped>\n    .dataframe tbody tr th:only-of-type {\n        vertical-align: middle;\n    }\n\n    .dataframe tbody tr th {\n        vertical-align: top;\n    }\n\n    .dataframe thead th {\n        text-align: right;\n    }\n</style>\n<table border=\"1\" class=\"dataframe\">\n  <thead>\n    <tr style=\"text-align: right;\">\n      <th></th>\n      <th>datetime</th>\n      <th>count</th>\n    </tr>\n  </thead>\n  <tbody>\n    <tr>\n      <th>0</th>\n      <td>2011-01-20 00:00:00</td>\n      <td>11.922419</td>\n    </tr>\n    <tr>\n      <th>1</th>\n      <td>2011-01-20 01:00:00</td>\n      <td>4.789775</td>\n    </tr>\n    <tr>\n      <th>2</th>\n      <td>2011-01-20 02:00:00</td>\n      <td>2.720792</td>\n    </tr>\n    <tr>\n      <th>3</th>\n      <td>2011-01-20 03:00:00</td>\n      <td>2.310768</td>\n    </tr>\n    <tr>\n      <th>4</th>\n      <td>2011-01-20 04:00:00</td>\n      <td>1.970750</td>\n    </tr>\n  </tbody>\n</table>\n</div>"
          },
          "metadata": {}
        }
      ]
    },
    {
      "metadata": {
        "trusted": true,
        "_uuid": "0864fa73ac1613d4333ce4294147b7b408dda9b2"
      },
      "cell_type": "code",
      "source": "submission.to_csv(\"rf2.csv\", index=False)",
      "execution_count": 48,
      "outputs": []
    },
    {
      "metadata": {
        "_uuid": "f0425011f693286609080548f639bc4fe69da4a5"
      },
      "cell_type": "markdown",
      "source": "# 3. Results"
    },
    {
      "metadata": {
        "_uuid": "e96c1b930bfa09408ccf5c785ea0cacae206ffdf"
      },
      "cell_type": "markdown",
      "source": "- public score :  0.38656\n- rank : 144/3251 (4.43%)"
    },
    {
      "metadata": {
        "_uuid": "6569fc2216ac053f2a3ba5e7f765880e9be2d231"
      },
      "cell_type": "markdown",
      "source": "다음 커널에는 부스팅모델을 사용해서 성적을 좀더 올려보겠다!"
    },
    {
      "metadata": {
        "trusted": true,
        "_uuid": "83413eeccf1dea2e07512573993b6381698467db"
      },
      "cell_type": "code",
      "source": "",
      "execution_count": null,
      "outputs": []
    }
  ],
  "metadata": {
    "kernelspec": {
      "display_name": "Python 3",
      "language": "python",
      "name": "python3"
    },
    "language_info": {
      "name": "python",
      "version": "3.6.6",
      "mimetype": "text/x-python",
      "codemirror_mode": {
        "name": "ipython",
        "version": 3
      },
      "pygments_lexer": "ipython3",
      "nbconvert_exporter": "python",
      "file_extension": ".py"
    }
  },
  "nbformat": 4,
  "nbformat_minor": 1
}